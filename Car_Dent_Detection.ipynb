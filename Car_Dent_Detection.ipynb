{
  "nbformat": 4,
  "nbformat_minor": 0,
  "metadata": {
    "colab": {
      "provenance": [],
      "gpuType": "T4"
    },
    "kernelspec": {
      "name": "python3",
      "display_name": "Python 3"
    },
    "language_info": {
      "name": "python"
    },
    "accelerator": "GPU",
    "widgets": {
      "application/vnd.jupyter.widget-state+json": {
        "ccdccd39242f4a5ba974e2997a4f4e4f": {
          "model_module": "@jupyter-widgets/controls",
          "model_name": "HBoxModel",
          "model_module_version": "1.5.0",
          "state": {
            "_dom_classes": [],
            "_model_module": "@jupyter-widgets/controls",
            "_model_module_version": "1.5.0",
            "_model_name": "HBoxModel",
            "_view_count": null,
            "_view_module": "@jupyter-widgets/controls",
            "_view_module_version": "1.5.0",
            "_view_name": "HBoxView",
            "box_style": "",
            "children": [
              "IPY_MODEL_3d0022dc619c439f8108ae16cde3cf28",
              "IPY_MODEL_9a97087fb65443448e0a5325d457cb20",
              "IPY_MODEL_9262f4d891e54a1f8c9bbc11274a9366"
            ],
            "layout": "IPY_MODEL_a127ea4c22e947fc9ca3fec352507f93"
          }
        },
        "3d0022dc619c439f8108ae16cde3cf28": {
          "model_module": "@jupyter-widgets/controls",
          "model_name": "HTMLModel",
          "model_module_version": "1.5.0",
          "state": {
            "_dom_classes": [],
            "_model_module": "@jupyter-widgets/controls",
            "_model_module_version": "1.5.0",
            "_model_name": "HTMLModel",
            "_view_count": null,
            "_view_module": "@jupyter-widgets/controls",
            "_view_module_version": "1.5.0",
            "_view_name": "HTMLView",
            "description": "",
            "description_tooltip": null,
            "layout": "IPY_MODEL_e023da5ac47a4e7eb16267801e2df865",
            "placeholder": "​",
            "style": "IPY_MODEL_a137c8dc3315408aac71e46860eefbb3",
            "value": "config.json: 100%"
          }
        },
        "9a97087fb65443448e0a5325d457cb20": {
          "model_module": "@jupyter-widgets/controls",
          "model_name": "FloatProgressModel",
          "model_module_version": "1.5.0",
          "state": {
            "_dom_classes": [],
            "_model_module": "@jupyter-widgets/controls",
            "_model_module_version": "1.5.0",
            "_model_name": "FloatProgressModel",
            "_view_count": null,
            "_view_module": "@jupyter-widgets/controls",
            "_view_module_version": "1.5.0",
            "_view_name": "ProgressView",
            "bar_style": "success",
            "description": "",
            "description_tooltip": null,
            "layout": "IPY_MODEL_1482bef73958480587fce16548de44cc",
            "max": 156,
            "min": 0,
            "orientation": "horizontal",
            "style": "IPY_MODEL_8f62eb35bd114b958ac6500441584134",
            "value": 156
          }
        },
        "9262f4d891e54a1f8c9bbc11274a9366": {
          "model_module": "@jupyter-widgets/controls",
          "model_name": "HTMLModel",
          "model_module_version": "1.5.0",
          "state": {
            "_dom_classes": [],
            "_model_module": "@jupyter-widgets/controls",
            "_model_module_version": "1.5.0",
            "_model_name": "HTMLModel",
            "_view_count": null,
            "_view_module": "@jupyter-widgets/controls",
            "_view_module_version": "1.5.0",
            "_view_name": "HTMLView",
            "description": "",
            "description_tooltip": null,
            "layout": "IPY_MODEL_d578ecb77f89477489a5f126de21064d",
            "placeholder": "​",
            "style": "IPY_MODEL_e3e60176d5eb459aa85c5cac573464e6",
            "value": " 156/156 [00:00&lt;00:00, 16.1kB/s]"
          }
        },
        "a127ea4c22e947fc9ca3fec352507f93": {
          "model_module": "@jupyter-widgets/base",
          "model_name": "LayoutModel",
          "model_module_version": "1.2.0",
          "state": {
            "_model_module": "@jupyter-widgets/base",
            "_model_module_version": "1.2.0",
            "_model_name": "LayoutModel",
            "_view_count": null,
            "_view_module": "@jupyter-widgets/base",
            "_view_module_version": "1.2.0",
            "_view_name": "LayoutView",
            "align_content": null,
            "align_items": null,
            "align_self": null,
            "border": null,
            "bottom": null,
            "display": null,
            "flex": null,
            "flex_flow": null,
            "grid_area": null,
            "grid_auto_columns": null,
            "grid_auto_flow": null,
            "grid_auto_rows": null,
            "grid_column": null,
            "grid_gap": null,
            "grid_row": null,
            "grid_template_areas": null,
            "grid_template_columns": null,
            "grid_template_rows": null,
            "height": null,
            "justify_content": null,
            "justify_items": null,
            "left": null,
            "margin": null,
            "max_height": null,
            "max_width": null,
            "min_height": null,
            "min_width": null,
            "object_fit": null,
            "object_position": null,
            "order": null,
            "overflow": null,
            "overflow_x": null,
            "overflow_y": null,
            "padding": null,
            "right": null,
            "top": null,
            "visibility": null,
            "width": null
          }
        },
        "e023da5ac47a4e7eb16267801e2df865": {
          "model_module": "@jupyter-widgets/base",
          "model_name": "LayoutModel",
          "model_module_version": "1.2.0",
          "state": {
            "_model_module": "@jupyter-widgets/base",
            "_model_module_version": "1.2.0",
            "_model_name": "LayoutModel",
            "_view_count": null,
            "_view_module": "@jupyter-widgets/base",
            "_view_module_version": "1.2.0",
            "_view_name": "LayoutView",
            "align_content": null,
            "align_items": null,
            "align_self": null,
            "border": null,
            "bottom": null,
            "display": null,
            "flex": null,
            "flex_flow": null,
            "grid_area": null,
            "grid_auto_columns": null,
            "grid_auto_flow": null,
            "grid_auto_rows": null,
            "grid_column": null,
            "grid_gap": null,
            "grid_row": null,
            "grid_template_areas": null,
            "grid_template_columns": null,
            "grid_template_rows": null,
            "height": null,
            "justify_content": null,
            "justify_items": null,
            "left": null,
            "margin": null,
            "max_height": null,
            "max_width": null,
            "min_height": null,
            "min_width": null,
            "object_fit": null,
            "object_position": null,
            "order": null,
            "overflow": null,
            "overflow_x": null,
            "overflow_y": null,
            "padding": null,
            "right": null,
            "top": null,
            "visibility": null,
            "width": null
          }
        },
        "a137c8dc3315408aac71e46860eefbb3": {
          "model_module": "@jupyter-widgets/controls",
          "model_name": "DescriptionStyleModel",
          "model_module_version": "1.5.0",
          "state": {
            "_model_module": "@jupyter-widgets/controls",
            "_model_module_version": "1.5.0",
            "_model_name": "DescriptionStyleModel",
            "_view_count": null,
            "_view_module": "@jupyter-widgets/base",
            "_view_module_version": "1.2.0",
            "_view_name": "StyleView",
            "description_width": ""
          }
        },
        "1482bef73958480587fce16548de44cc": {
          "model_module": "@jupyter-widgets/base",
          "model_name": "LayoutModel",
          "model_module_version": "1.2.0",
          "state": {
            "_model_module": "@jupyter-widgets/base",
            "_model_module_version": "1.2.0",
            "_model_name": "LayoutModel",
            "_view_count": null,
            "_view_module": "@jupyter-widgets/base",
            "_view_module_version": "1.2.0",
            "_view_name": "LayoutView",
            "align_content": null,
            "align_items": null,
            "align_self": null,
            "border": null,
            "bottom": null,
            "display": null,
            "flex": null,
            "flex_flow": null,
            "grid_area": null,
            "grid_auto_columns": null,
            "grid_auto_flow": null,
            "grid_auto_rows": null,
            "grid_column": null,
            "grid_gap": null,
            "grid_row": null,
            "grid_template_areas": null,
            "grid_template_columns": null,
            "grid_template_rows": null,
            "height": null,
            "justify_content": null,
            "justify_items": null,
            "left": null,
            "margin": null,
            "max_height": null,
            "max_width": null,
            "min_height": null,
            "min_width": null,
            "object_fit": null,
            "object_position": null,
            "order": null,
            "overflow": null,
            "overflow_x": null,
            "overflow_y": null,
            "padding": null,
            "right": null,
            "top": null,
            "visibility": null,
            "width": null
          }
        },
        "8f62eb35bd114b958ac6500441584134": {
          "model_module": "@jupyter-widgets/controls",
          "model_name": "ProgressStyleModel",
          "model_module_version": "1.5.0",
          "state": {
            "_model_module": "@jupyter-widgets/controls",
            "_model_module_version": "1.5.0",
            "_model_name": "ProgressStyleModel",
            "_view_count": null,
            "_view_module": "@jupyter-widgets/base",
            "_view_module_version": "1.2.0",
            "_view_name": "StyleView",
            "bar_color": null,
            "description_width": ""
          }
        },
        "d578ecb77f89477489a5f126de21064d": {
          "model_module": "@jupyter-widgets/base",
          "model_name": "LayoutModel",
          "model_module_version": "1.2.0",
          "state": {
            "_model_module": "@jupyter-widgets/base",
            "_model_module_version": "1.2.0",
            "_model_name": "LayoutModel",
            "_view_count": null,
            "_view_module": "@jupyter-widgets/base",
            "_view_module_version": "1.2.0",
            "_view_name": "LayoutView",
            "align_content": null,
            "align_items": null,
            "align_self": null,
            "border": null,
            "bottom": null,
            "display": null,
            "flex": null,
            "flex_flow": null,
            "grid_area": null,
            "grid_auto_columns": null,
            "grid_auto_flow": null,
            "grid_auto_rows": null,
            "grid_column": null,
            "grid_gap": null,
            "grid_row": null,
            "grid_template_areas": null,
            "grid_template_columns": null,
            "grid_template_rows": null,
            "height": null,
            "justify_content": null,
            "justify_items": null,
            "left": null,
            "margin": null,
            "max_height": null,
            "max_width": null,
            "min_height": null,
            "min_width": null,
            "object_fit": null,
            "object_position": null,
            "order": null,
            "overflow": null,
            "overflow_x": null,
            "overflow_y": null,
            "padding": null,
            "right": null,
            "top": null,
            "visibility": null,
            "width": null
          }
        },
        "e3e60176d5eb459aa85c5cac573464e6": {
          "model_module": "@jupyter-widgets/controls",
          "model_name": "DescriptionStyleModel",
          "model_module_version": "1.5.0",
          "state": {
            "_model_module": "@jupyter-widgets/controls",
            "_model_module_version": "1.5.0",
            "_model_name": "DescriptionStyleModel",
            "_view_count": null,
            "_view_module": "@jupyter-widgets/base",
            "_view_module_version": "1.2.0",
            "_view_name": "StyleView",
            "description_width": ""
          }
        },
        "e0febfa2f0da421f8a11b87ee14f14af": {
          "model_module": "@jupyter-widgets/controls",
          "model_name": "HBoxModel",
          "model_module_version": "1.5.0",
          "state": {
            "_dom_classes": [],
            "_model_module": "@jupyter-widgets/controls",
            "_model_module_version": "1.5.0",
            "_model_name": "HBoxModel",
            "_view_count": null,
            "_view_module": "@jupyter-widgets/controls",
            "_view_module_version": "1.5.0",
            "_view_name": "HBoxView",
            "box_style": "",
            "children": [
              "IPY_MODEL_f425dbeb83bc4c32a9ec5e228233394d",
              "IPY_MODEL_3cf0684743034b01a64451ba10cf4b16",
              "IPY_MODEL_f5c05770b8184f82a2120bbd2321d219"
            ],
            "layout": "IPY_MODEL_284619a896544cd39d541c9b3742cc29"
          }
        },
        "f425dbeb83bc4c32a9ec5e228233394d": {
          "model_module": "@jupyter-widgets/controls",
          "model_name": "HTMLModel",
          "model_module_version": "1.5.0",
          "state": {
            "_dom_classes": [],
            "_model_module": "@jupyter-widgets/controls",
            "_model_module_version": "1.5.0",
            "_model_name": "HTMLModel",
            "_view_count": null,
            "_view_module": "@jupyter-widgets/controls",
            "_view_module_version": "1.5.0",
            "_view_name": "HTMLView",
            "description": "",
            "description_tooltip": null,
            "layout": "IPY_MODEL_a84370c1a717431cb47a894fe5985aec",
            "placeholder": "​",
            "style": "IPY_MODEL_14eaa04ee69143eebf9f922493ae97f6",
            "value": "model.safetensors: 100%"
          }
        },
        "3cf0684743034b01a64451ba10cf4b16": {
          "model_module": "@jupyter-widgets/controls",
          "model_name": "FloatProgressModel",
          "model_module_version": "1.5.0",
          "state": {
            "_dom_classes": [],
            "_model_module": "@jupyter-widgets/controls",
            "_model_module_version": "1.5.0",
            "_model_name": "FloatProgressModel",
            "_view_count": null,
            "_view_module": "@jupyter-widgets/controls",
            "_view_module_version": "1.5.0",
            "_view_name": "ProgressView",
            "bar_style": "success",
            "description": "",
            "description_tooltip": null,
            "layout": "IPY_MODEL_5cb5d98902bf4622818c78d9f5b5f121",
            "max": 87275112,
            "min": 0,
            "orientation": "horizontal",
            "style": "IPY_MODEL_d3749121e02c4a58937f9b09e5416fee",
            "value": 87275112
          }
        },
        "f5c05770b8184f82a2120bbd2321d219": {
          "model_module": "@jupyter-widgets/controls",
          "model_name": "HTMLModel",
          "model_module_version": "1.5.0",
          "state": {
            "_dom_classes": [],
            "_model_module": "@jupyter-widgets/controls",
            "_model_module_version": "1.5.0",
            "_model_name": "HTMLModel",
            "_view_count": null,
            "_view_module": "@jupyter-widgets/controls",
            "_view_module_version": "1.5.0",
            "_view_name": "HTMLView",
            "description": "",
            "description_tooltip": null,
            "layout": "IPY_MODEL_ea81be6c1e59487eb0c55fb73b8528ff",
            "placeholder": "​",
            "style": "IPY_MODEL_cefa6c9664b44c72b8dcbcb4bba31d7b",
            "value": " 87.3M/87.3M [00:00&lt;00:00, 162MB/s]"
          }
        },
        "284619a896544cd39d541c9b3742cc29": {
          "model_module": "@jupyter-widgets/base",
          "model_name": "LayoutModel",
          "model_module_version": "1.2.0",
          "state": {
            "_model_module": "@jupyter-widgets/base",
            "_model_module_version": "1.2.0",
            "_model_name": "LayoutModel",
            "_view_count": null,
            "_view_module": "@jupyter-widgets/base",
            "_view_module_version": "1.2.0",
            "_view_name": "LayoutView",
            "align_content": null,
            "align_items": null,
            "align_self": null,
            "border": null,
            "bottom": null,
            "display": null,
            "flex": null,
            "flex_flow": null,
            "grid_area": null,
            "grid_auto_columns": null,
            "grid_auto_flow": null,
            "grid_auto_rows": null,
            "grid_column": null,
            "grid_gap": null,
            "grid_row": null,
            "grid_template_areas": null,
            "grid_template_columns": null,
            "grid_template_rows": null,
            "height": null,
            "justify_content": null,
            "justify_items": null,
            "left": null,
            "margin": null,
            "max_height": null,
            "max_width": null,
            "min_height": null,
            "min_width": null,
            "object_fit": null,
            "object_position": null,
            "order": null,
            "overflow": null,
            "overflow_x": null,
            "overflow_y": null,
            "padding": null,
            "right": null,
            "top": null,
            "visibility": null,
            "width": null
          }
        },
        "a84370c1a717431cb47a894fe5985aec": {
          "model_module": "@jupyter-widgets/base",
          "model_name": "LayoutModel",
          "model_module_version": "1.2.0",
          "state": {
            "_model_module": "@jupyter-widgets/base",
            "_model_module_version": "1.2.0",
            "_model_name": "LayoutModel",
            "_view_count": null,
            "_view_module": "@jupyter-widgets/base",
            "_view_module_version": "1.2.0",
            "_view_name": "LayoutView",
            "align_content": null,
            "align_items": null,
            "align_self": null,
            "border": null,
            "bottom": null,
            "display": null,
            "flex": null,
            "flex_flow": null,
            "grid_area": null,
            "grid_auto_columns": null,
            "grid_auto_flow": null,
            "grid_auto_rows": null,
            "grid_column": null,
            "grid_gap": null,
            "grid_row": null,
            "grid_template_areas": null,
            "grid_template_columns": null,
            "grid_template_rows": null,
            "height": null,
            "justify_content": null,
            "justify_items": null,
            "left": null,
            "margin": null,
            "max_height": null,
            "max_width": null,
            "min_height": null,
            "min_width": null,
            "object_fit": null,
            "object_position": null,
            "order": null,
            "overflow": null,
            "overflow_x": null,
            "overflow_y": null,
            "padding": null,
            "right": null,
            "top": null,
            "visibility": null,
            "width": null
          }
        },
        "14eaa04ee69143eebf9f922493ae97f6": {
          "model_module": "@jupyter-widgets/controls",
          "model_name": "DescriptionStyleModel",
          "model_module_version": "1.5.0",
          "state": {
            "_model_module": "@jupyter-widgets/controls",
            "_model_module_version": "1.5.0",
            "_model_name": "DescriptionStyleModel",
            "_view_count": null,
            "_view_module": "@jupyter-widgets/base",
            "_view_module_version": "1.2.0",
            "_view_name": "StyleView",
            "description_width": ""
          }
        },
        "5cb5d98902bf4622818c78d9f5b5f121": {
          "model_module": "@jupyter-widgets/base",
          "model_name": "LayoutModel",
          "model_module_version": "1.2.0",
          "state": {
            "_model_module": "@jupyter-widgets/base",
            "_model_module_version": "1.2.0",
            "_model_name": "LayoutModel",
            "_view_count": null,
            "_view_module": "@jupyter-widgets/base",
            "_view_module_version": "1.2.0",
            "_view_name": "LayoutView",
            "align_content": null,
            "align_items": null,
            "align_self": null,
            "border": null,
            "bottom": null,
            "display": null,
            "flex": null,
            "flex_flow": null,
            "grid_area": null,
            "grid_auto_columns": null,
            "grid_auto_flow": null,
            "grid_auto_rows": null,
            "grid_column": null,
            "grid_gap": null,
            "grid_row": null,
            "grid_template_areas": null,
            "grid_template_columns": null,
            "grid_template_rows": null,
            "height": null,
            "justify_content": null,
            "justify_items": null,
            "left": null,
            "margin": null,
            "max_height": null,
            "max_width": null,
            "min_height": null,
            "min_width": null,
            "object_fit": null,
            "object_position": null,
            "order": null,
            "overflow": null,
            "overflow_x": null,
            "overflow_y": null,
            "padding": null,
            "right": null,
            "top": null,
            "visibility": null,
            "width": null
          }
        },
        "d3749121e02c4a58937f9b09e5416fee": {
          "model_module": "@jupyter-widgets/controls",
          "model_name": "ProgressStyleModel",
          "model_module_version": "1.5.0",
          "state": {
            "_model_module": "@jupyter-widgets/controls",
            "_model_module_version": "1.5.0",
            "_model_name": "ProgressStyleModel",
            "_view_count": null,
            "_view_module": "@jupyter-widgets/base",
            "_view_module_version": "1.2.0",
            "_view_name": "StyleView",
            "bar_color": null,
            "description_width": ""
          }
        },
        "ea81be6c1e59487eb0c55fb73b8528ff": {
          "model_module": "@jupyter-widgets/base",
          "model_name": "LayoutModel",
          "model_module_version": "1.2.0",
          "state": {
            "_model_module": "@jupyter-widgets/base",
            "_model_module_version": "1.2.0",
            "_model_name": "LayoutModel",
            "_view_count": null,
            "_view_module": "@jupyter-widgets/base",
            "_view_module_version": "1.2.0",
            "_view_name": "LayoutView",
            "align_content": null,
            "align_items": null,
            "align_self": null,
            "border": null,
            "bottom": null,
            "display": null,
            "flex": null,
            "flex_flow": null,
            "grid_area": null,
            "grid_auto_columns": null,
            "grid_auto_flow": null,
            "grid_auto_rows": null,
            "grid_column": null,
            "grid_gap": null,
            "grid_row": null,
            "grid_template_areas": null,
            "grid_template_columns": null,
            "grid_template_rows": null,
            "height": null,
            "justify_content": null,
            "justify_items": null,
            "left": null,
            "margin": null,
            "max_height": null,
            "max_width": null,
            "min_height": null,
            "min_width": null,
            "object_fit": null,
            "object_position": null,
            "order": null,
            "overflow": null,
            "overflow_x": null,
            "overflow_y": null,
            "padding": null,
            "right": null,
            "top": null,
            "visibility": null,
            "width": null
          }
        },
        "cefa6c9664b44c72b8dcbcb4bba31d7b": {
          "model_module": "@jupyter-widgets/controls",
          "model_name": "DescriptionStyleModel",
          "model_module_version": "1.5.0",
          "state": {
            "_model_module": "@jupyter-widgets/controls",
            "_model_module_version": "1.5.0",
            "_model_name": "DescriptionStyleModel",
            "_view_count": null,
            "_view_module": "@jupyter-widgets/base",
            "_view_module_version": "1.2.0",
            "_view_name": "StyleView",
            "description_width": ""
          }
        }
      }
    }
  },
  "cells": [
    {
      "cell_type": "code",
      "execution_count": 1,
      "metadata": {
        "colab": {
          "base_uri": "https://localhost:8080/"
        },
        "id": "X4p__lJUwqqz",
        "outputId": "1ad58b67-e3a2-4b0a-bfc8-3bd9e6e8a33b"
      },
      "outputs": [
        {
          "output_type": "stream",
          "name": "stdout",
          "text": [
            "\u001b[2K   \u001b[90m━━━━━━━━━━━━━━━━━━━━━━━━━━━━━━━━━━━━━━━━\u001b[0m \u001b[32m154.8/154.8 kB\u001b[0m \u001b[31m3.2 MB/s\u001b[0m eta \u001b[36m0:00:00\u001b[0m\n",
            "\u001b[2K   \u001b[90m━━━━━━━━━━━━━━━━━━━━━━━━━━━━━━━━━━━━━━━━\u001b[0m \u001b[32m363.4/363.4 MB\u001b[0m \u001b[31m3.7 MB/s\u001b[0m eta \u001b[36m0:00:00\u001b[0m\n",
            "\u001b[2K   \u001b[90m━━━━━━━━━━━━━━━━━━━━━━━━━━━━━━━━━━━━━━━━\u001b[0m \u001b[32m13.8/13.8 MB\u001b[0m \u001b[31m118.9 MB/s\u001b[0m eta \u001b[36m0:00:00\u001b[0m\n",
            "\u001b[2K   \u001b[90m━━━━━━━━━━━━━━━━━━━━━━━━━━━━━━━━━━━━━━━━\u001b[0m \u001b[32m24.6/24.6 MB\u001b[0m \u001b[31m91.8 MB/s\u001b[0m eta \u001b[36m0:00:00\u001b[0m\n",
            "\u001b[2K   \u001b[90m━━━━━━━━━━━━━━━━━━━━━━━━━━━━━━━━━━━━━━━━\u001b[0m \u001b[32m883.7/883.7 kB\u001b[0m \u001b[31m60.9 MB/s\u001b[0m eta \u001b[36m0:00:00\u001b[0m\n",
            "\u001b[2K   \u001b[90m━━━━━━━━━━━━━━━━━━━━━━━━━━━━━━━━━━━━━━━━\u001b[0m \u001b[32m664.8/664.8 MB\u001b[0m \u001b[31m2.4 MB/s\u001b[0m eta \u001b[36m0:00:00\u001b[0m\n",
            "\u001b[2K   \u001b[90m━━━━━━━━━━━━━━━━━━━━━━━━━━━━━━━━━━━━━━━━\u001b[0m \u001b[32m211.5/211.5 MB\u001b[0m \u001b[31m6.1 MB/s\u001b[0m eta \u001b[36m0:00:00\u001b[0m\n",
            "\u001b[2K   \u001b[90m━━━━━━━━━━━━━━━━━━━━━━━━━━━━━━━━━━━━━━━━\u001b[0m \u001b[32m56.3/56.3 MB\u001b[0m \u001b[31m12.8 MB/s\u001b[0m eta \u001b[36m0:00:00\u001b[0m\n",
            "\u001b[2K   \u001b[90m━━━━━━━━━━━━━━━━━━━━━━━━━━━━━━━━━━━━━━━━\u001b[0m \u001b[32m127.9/127.9 MB\u001b[0m \u001b[31m7.3 MB/s\u001b[0m eta \u001b[36m0:00:00\u001b[0m\n",
            "\u001b[2K   \u001b[90m━━━━━━━━━━━━━━━━━━━━━━━━━━━━━━━━━━━━━━━━\u001b[0m \u001b[32m207.5/207.5 MB\u001b[0m \u001b[31m5.5 MB/s\u001b[0m eta \u001b[36m0:00:00\u001b[0m\n",
            "\u001b[2K   \u001b[90m━━━━━━━━━━━━━━━━━━━━━━━━━━━━━━━━━━━━━━━━\u001b[0m \u001b[32m21.1/21.1 MB\u001b[0m \u001b[31m43.2 MB/s\u001b[0m eta \u001b[36m0:00:00\u001b[0m\n",
            "\u001b[?25hRequirement already satisfied: torch in /usr/local/lib/python3.11/dist-packages (2.6.0+cu124)\n",
            "Requirement already satisfied: torchvision in /usr/local/lib/python3.11/dist-packages (0.21.0+cu124)\n",
            "Requirement already satisfied: pillow in /usr/local/lib/python3.11/dist-packages (11.2.1)\n",
            "Requirement already satisfied: tqdm in /usr/local/lib/python3.11/dist-packages (4.67.1)\n",
            "Requirement already satisfied: matplotlib in /usr/local/lib/python3.11/dist-packages (3.10.0)\n",
            "Requirement already satisfied: opencv-python in /usr/local/lib/python3.11/dist-packages (4.11.0.86)\n",
            "Requirement already satisfied: filelock in /usr/local/lib/python3.11/dist-packages (from torch) (3.18.0)\n",
            "Requirement already satisfied: typing-extensions>=4.10.0 in /usr/local/lib/python3.11/dist-packages (from torch) (4.14.1)\n",
            "Requirement already satisfied: networkx in /usr/local/lib/python3.11/dist-packages (from torch) (3.5)\n",
            "Requirement already satisfied: jinja2 in /usr/local/lib/python3.11/dist-packages (from torch) (3.1.6)\n",
            "Requirement already satisfied: fsspec in /usr/local/lib/python3.11/dist-packages (from torch) (2025.3.2)\n",
            "Requirement already satisfied: nvidia-cuda-nvrtc-cu12==12.4.127 in /usr/local/lib/python3.11/dist-packages (from torch) (12.4.127)\n",
            "Requirement already satisfied: nvidia-cuda-runtime-cu12==12.4.127 in /usr/local/lib/python3.11/dist-packages (from torch) (12.4.127)\n",
            "Requirement already satisfied: nvidia-cuda-cupti-cu12==12.4.127 in /usr/local/lib/python3.11/dist-packages (from torch) (12.4.127)\n",
            "Requirement already satisfied: nvidia-cudnn-cu12==9.1.0.70 in /usr/local/lib/python3.11/dist-packages (from torch) (9.1.0.70)\n",
            "Requirement already satisfied: nvidia-cublas-cu12==12.4.5.8 in /usr/local/lib/python3.11/dist-packages (from torch) (12.4.5.8)\n",
            "Requirement already satisfied: nvidia-cufft-cu12==11.2.1.3 in /usr/local/lib/python3.11/dist-packages (from torch) (11.2.1.3)\n",
            "Requirement already satisfied: nvidia-curand-cu12==10.3.5.147 in /usr/local/lib/python3.11/dist-packages (from torch) (10.3.5.147)\n",
            "Requirement already satisfied: nvidia-cusolver-cu12==11.6.1.9 in /usr/local/lib/python3.11/dist-packages (from torch) (11.6.1.9)\n",
            "Requirement already satisfied: nvidia-cusparse-cu12==12.3.1.170 in /usr/local/lib/python3.11/dist-packages (from torch) (12.3.1.170)\n",
            "Requirement already satisfied: nvidia-cusparselt-cu12==0.6.2 in /usr/local/lib/python3.11/dist-packages (from torch) (0.6.2)\n",
            "Requirement already satisfied: nvidia-nccl-cu12==2.21.5 in /usr/local/lib/python3.11/dist-packages (from torch) (2.21.5)\n",
            "Requirement already satisfied: nvidia-nvtx-cu12==12.4.127 in /usr/local/lib/python3.11/dist-packages (from torch) (12.4.127)\n",
            "Requirement already satisfied: nvidia-nvjitlink-cu12==12.4.127 in /usr/local/lib/python3.11/dist-packages (from torch) (12.4.127)\n",
            "Requirement already satisfied: triton==3.2.0 in /usr/local/lib/python3.11/dist-packages (from torch) (3.2.0)\n",
            "Requirement already satisfied: sympy==1.13.1 in /usr/local/lib/python3.11/dist-packages (from torch) (1.13.1)\n",
            "Requirement already satisfied: mpmath<1.4,>=1.1.0 in /usr/local/lib/python3.11/dist-packages (from sympy==1.13.1->torch) (1.3.0)\n",
            "Requirement already satisfied: numpy in /usr/local/lib/python3.11/dist-packages (from torchvision) (2.0.2)\n",
            "Requirement already satisfied: contourpy>=1.0.1 in /usr/local/lib/python3.11/dist-packages (from matplotlib) (1.3.2)\n",
            "Requirement already satisfied: cycler>=0.10 in /usr/local/lib/python3.11/dist-packages (from matplotlib) (0.12.1)\n",
            "Requirement already satisfied: fonttools>=4.22.0 in /usr/local/lib/python3.11/dist-packages (from matplotlib) (4.58.5)\n",
            "Requirement already satisfied: kiwisolver>=1.3.1 in /usr/local/lib/python3.11/dist-packages (from matplotlib) (1.4.8)\n",
            "Requirement already satisfied: packaging>=20.0 in /usr/local/lib/python3.11/dist-packages (from matplotlib) (25.0)\n",
            "Requirement already satisfied: pyparsing>=2.3.1 in /usr/local/lib/python3.11/dist-packages (from matplotlib) (3.2.3)\n",
            "Requirement already satisfied: python-dateutil>=2.7 in /usr/local/lib/python3.11/dist-packages (from matplotlib) (2.9.0.post0)\n",
            "Requirement already satisfied: six>=1.5 in /usr/local/lib/python3.11/dist-packages (from python-dateutil>=2.7->matplotlib) (1.17.0)\n",
            "Requirement already satisfied: MarkupSafe>=2.0 in /usr/local/lib/python3.11/dist-packages (from jinja2->torch) (3.0.2)\n"
          ]
        }
      ],
      "source": [
        "!pip install segmentation-models-pytorch --quiet\n",
        "!pip install torch torchvision pillow tqdm matplotlib opencv-python"
      ]
    },
    {
      "cell_type": "code",
      "source": [
        "import os\n",
        "import json\n",
        "import cv2\n",
        "import numpy as np\n",
        "from PIL import Image\n",
        "from collections import defaultdict\n",
        "import torch\n",
        "from torch.utils.data import Dataset, DataLoader\n",
        "from torchvision import transforms\n",
        "import torchvision.transforms.functional as TF\n",
        "import random\n",
        "import matplotlib.pyplot as plt\n",
        "import segmentation_models_pytorch as smp"
      ],
      "metadata": {
        "id": "wwkTkmC0ws2P"
      },
      "execution_count": 2,
      "outputs": []
    },
    {
      "cell_type": "code",
      "source": [
        "from google.colab import files\n",
        "uploaded = files.upload()  # Upload Vehicle_Damage.zip\n",
        "\n",
        "import zipfile\n",
        "zip_path = 'archive (13).zip'\n",
        "unzip_dir = 'Vehicle_Damage'\n",
        "with zipfile.ZipFile(zip_path, 'r') as zip_ref:\n",
        "    zip_ref.extractall(unzip_dir)"
      ],
      "metadata": {
        "colab": {
          "base_uri": "https://localhost:8080/",
          "height": 73
        },
        "id": "b5sxQfGkxc7I",
        "outputId": "f9d7fc44-bfbb-47f3-9f91-57adc5746862"
      },
      "execution_count": 3,
      "outputs": [
        {
          "output_type": "display_data",
          "data": {
            "text/plain": [
              "<IPython.core.display.HTML object>"
            ],
            "text/html": [
              "\n",
              "     <input type=\"file\" id=\"files-9df9e471-c762-40d7-a154-e5c6b3385d88\" name=\"files[]\" multiple disabled\n",
              "        style=\"border:none\" />\n",
              "     <output id=\"result-9df9e471-c762-40d7-a154-e5c6b3385d88\">\n",
              "      Upload widget is only available when the cell has been executed in the\n",
              "      current browser session. Please rerun this cell to enable.\n",
              "      </output>\n",
              "      <script>// Copyright 2017 Google LLC\n",
              "//\n",
              "// Licensed under the Apache License, Version 2.0 (the \"License\");\n",
              "// you may not use this file except in compliance with the License.\n",
              "// You may obtain a copy of the License at\n",
              "//\n",
              "//      http://www.apache.org/licenses/LICENSE-2.0\n",
              "//\n",
              "// Unless required by applicable law or agreed to in writing, software\n",
              "// distributed under the License is distributed on an \"AS IS\" BASIS,\n",
              "// WITHOUT WARRANTIES OR CONDITIONS OF ANY KIND, either express or implied.\n",
              "// See the License for the specific language governing permissions and\n",
              "// limitations under the License.\n",
              "\n",
              "/**\n",
              " * @fileoverview Helpers for google.colab Python module.\n",
              " */\n",
              "(function(scope) {\n",
              "function span(text, styleAttributes = {}) {\n",
              "  const element = document.createElement('span');\n",
              "  element.textContent = text;\n",
              "  for (const key of Object.keys(styleAttributes)) {\n",
              "    element.style[key] = styleAttributes[key];\n",
              "  }\n",
              "  return element;\n",
              "}\n",
              "\n",
              "// Max number of bytes which will be uploaded at a time.\n",
              "const MAX_PAYLOAD_SIZE = 100 * 1024;\n",
              "\n",
              "function _uploadFiles(inputId, outputId) {\n",
              "  const steps = uploadFilesStep(inputId, outputId);\n",
              "  const outputElement = document.getElementById(outputId);\n",
              "  // Cache steps on the outputElement to make it available for the next call\n",
              "  // to uploadFilesContinue from Python.\n",
              "  outputElement.steps = steps;\n",
              "\n",
              "  return _uploadFilesContinue(outputId);\n",
              "}\n",
              "\n",
              "// This is roughly an async generator (not supported in the browser yet),\n",
              "// where there are multiple asynchronous steps and the Python side is going\n",
              "// to poll for completion of each step.\n",
              "// This uses a Promise to block the python side on completion of each step,\n",
              "// then passes the result of the previous step as the input to the next step.\n",
              "function _uploadFilesContinue(outputId) {\n",
              "  const outputElement = document.getElementById(outputId);\n",
              "  const steps = outputElement.steps;\n",
              "\n",
              "  const next = steps.next(outputElement.lastPromiseValue);\n",
              "  return Promise.resolve(next.value.promise).then((value) => {\n",
              "    // Cache the last promise value to make it available to the next\n",
              "    // step of the generator.\n",
              "    outputElement.lastPromiseValue = value;\n",
              "    return next.value.response;\n",
              "  });\n",
              "}\n",
              "\n",
              "/**\n",
              " * Generator function which is called between each async step of the upload\n",
              " * process.\n",
              " * @param {string} inputId Element ID of the input file picker element.\n",
              " * @param {string} outputId Element ID of the output display.\n",
              " * @return {!Iterable<!Object>} Iterable of next steps.\n",
              " */\n",
              "function* uploadFilesStep(inputId, outputId) {\n",
              "  const inputElement = document.getElementById(inputId);\n",
              "  inputElement.disabled = false;\n",
              "\n",
              "  const outputElement = document.getElementById(outputId);\n",
              "  outputElement.innerHTML = '';\n",
              "\n",
              "  const pickedPromise = new Promise((resolve) => {\n",
              "    inputElement.addEventListener('change', (e) => {\n",
              "      resolve(e.target.files);\n",
              "    });\n",
              "  });\n",
              "\n",
              "  const cancel = document.createElement('button');\n",
              "  inputElement.parentElement.appendChild(cancel);\n",
              "  cancel.textContent = 'Cancel upload';\n",
              "  const cancelPromise = new Promise((resolve) => {\n",
              "    cancel.onclick = () => {\n",
              "      resolve(null);\n",
              "    };\n",
              "  });\n",
              "\n",
              "  // Wait for the user to pick the files.\n",
              "  const files = yield {\n",
              "    promise: Promise.race([pickedPromise, cancelPromise]),\n",
              "    response: {\n",
              "      action: 'starting',\n",
              "    }\n",
              "  };\n",
              "\n",
              "  cancel.remove();\n",
              "\n",
              "  // Disable the input element since further picks are not allowed.\n",
              "  inputElement.disabled = true;\n",
              "\n",
              "  if (!files) {\n",
              "    return {\n",
              "      response: {\n",
              "        action: 'complete',\n",
              "      }\n",
              "    };\n",
              "  }\n",
              "\n",
              "  for (const file of files) {\n",
              "    const li = document.createElement('li');\n",
              "    li.append(span(file.name, {fontWeight: 'bold'}));\n",
              "    li.append(span(\n",
              "        `(${file.type || 'n/a'}) - ${file.size} bytes, ` +\n",
              "        `last modified: ${\n",
              "            file.lastModifiedDate ? file.lastModifiedDate.toLocaleDateString() :\n",
              "                                    'n/a'} - `));\n",
              "    const percent = span('0% done');\n",
              "    li.appendChild(percent);\n",
              "\n",
              "    outputElement.appendChild(li);\n",
              "\n",
              "    const fileDataPromise = new Promise((resolve) => {\n",
              "      const reader = new FileReader();\n",
              "      reader.onload = (e) => {\n",
              "        resolve(e.target.result);\n",
              "      };\n",
              "      reader.readAsArrayBuffer(file);\n",
              "    });\n",
              "    // Wait for the data to be ready.\n",
              "    let fileData = yield {\n",
              "      promise: fileDataPromise,\n",
              "      response: {\n",
              "        action: 'continue',\n",
              "      }\n",
              "    };\n",
              "\n",
              "    // Use a chunked sending to avoid message size limits. See b/62115660.\n",
              "    let position = 0;\n",
              "    do {\n",
              "      const length = Math.min(fileData.byteLength - position, MAX_PAYLOAD_SIZE);\n",
              "      const chunk = new Uint8Array(fileData, position, length);\n",
              "      position += length;\n",
              "\n",
              "      const base64 = btoa(String.fromCharCode.apply(null, chunk));\n",
              "      yield {\n",
              "        response: {\n",
              "          action: 'append',\n",
              "          file: file.name,\n",
              "          data: base64,\n",
              "        },\n",
              "      };\n",
              "\n",
              "      let percentDone = fileData.byteLength === 0 ?\n",
              "          100 :\n",
              "          Math.round((position / fileData.byteLength) * 100);\n",
              "      percent.textContent = `${percentDone}% done`;\n",
              "\n",
              "    } while (position < fileData.byteLength);\n",
              "  }\n",
              "\n",
              "  // All done.\n",
              "  yield {\n",
              "    response: {\n",
              "      action: 'complete',\n",
              "    }\n",
              "  };\n",
              "}\n",
              "\n",
              "scope.google = scope.google || {};\n",
              "scope.google.colab = scope.google.colab || {};\n",
              "scope.google.colab._files = {\n",
              "  _uploadFiles,\n",
              "  _uploadFilesContinue,\n",
              "};\n",
              "})(self);\n",
              "</script> "
            ]
          },
          "metadata": {}
        },
        {
          "output_type": "stream",
          "name": "stdout",
          "text": [
            "Saving archive (13).zip to archive (13).zip\n"
          ]
        }
      ]
    },
    {
      "cell_type": "code",
      "source": [
        "def create_multiclass_masks_from_coco(coco_json, mask_folder):\n",
        "    with open(coco_json, 'r') as f:\n",
        "        coco = json.load(f)\n",
        "    imgid_to_info = {img['id']: img for img in coco['images']}\n",
        "    perimg_segments = defaultdict(list)\n",
        "    all_classes = set()\n",
        "    for ann in coco['annotations']:\n",
        "        perimg_segments[ann['image_id']].append(ann)\n",
        "        all_classes.add(ann['category_id'])\n",
        "    num_classes = max(all_classes) + 1\n",
        "\n",
        "    os.makedirs(mask_folder, exist_ok=True)\n",
        "    for img_id, info in imgid_to_info.items():\n",
        "        height, width = info['height'], info['width']\n",
        "        mask = np.zeros((height, width), dtype=np.uint8)\n",
        "        anns = perimg_segments.get(img_id, [])\n",
        "        for ann in anns:\n",
        "            cat = ann['category_id']\n",
        "            if 'segmentation' in ann:\n",
        "                for seg in ann['segmentation']:\n",
        "                    coords = np.array(seg).reshape((-1, 2)).astype(np.int32)\n",
        "                    cv2.fillPoly(mask, [coords], cat)\n",
        "        mask_name = info['file_name'].replace('.jpg', '_mask.png')\n",
        "        Image.fromarray(mask).save(os.path.join(mask_folder, mask_name))\n",
        "    return num_classes\n",
        "\n",
        "num_classes_train = create_multiclass_masks_from_coco(\n",
        "    'Vehicle_Damage/train/COCO_mul_train_annos.json',\n",
        "    'Vehicle_Damage/train/masks'\n",
        ")\n",
        "num_classes_val = create_multiclass_masks_from_coco(\n",
        "    'Vehicle_Damage/val/COCO_mul_val_annos.json',\n",
        "    'Vehicle_Damage/val/masks'\n",
        ")\n",
        "num_classes = max(num_classes_train, num_classes_val)"
      ],
      "metadata": {
        "id": "zvztGeUwDeSa"
      },
      "execution_count": 4,
      "outputs": []
    },
    {
      "cell_type": "code",
      "source": [
        "def compute_class_counts(mask_dir):\n",
        "    mask_files = [f for f in os.listdir(mask_dir) if f.endswith('.png')]\n",
        "    max_class = 0\n",
        "    for mfile in mask_files:\n",
        "        mask = np.array(Image.open(os.path.join(mask_dir, mfile)))\n",
        "        this_max = mask.max()\n",
        "        if this_max > max_class:\n",
        "            max_class = this_max\n",
        "    num_classes = max_class + 1\n",
        "    class_counts = np.zeros(num_classes, dtype=np.int64)\n",
        "    for mfile in mask_files:\n",
        "        mask = np.array(Image.open(os.path.join(mask_dir, mfile)))\n",
        "        for class_idx in range(num_classes):\n",
        "            class_counts[class_idx] += np.sum(mask == class_idx)\n",
        "    return class_counts\n",
        "\n",
        "mask_dir = 'Vehicle_Damage/train/masks'\n",
        "class_counts = compute_class_counts(mask_dir)\n",
        "print(\"Pixel counts per class:\", class_counts.tolist())\n"
      ],
      "metadata": {
        "colab": {
          "base_uri": "https://localhost:8080/"
        },
        "id": "EUw034hzFZ3v",
        "outputId": "a86f152a-f76c-496f-ad6f-5e20b7acf24a"
      },
      "execution_count": 5,
      "outputs": [
        {
          "output_type": "stream",
          "name": "stdout",
          "text": [
            "Pixel counts per class: [40698472, 1908459, 4714480, 5246303, 3489282, 5808988]\n"
          ]
        }
      ]
    },
    {
      "cell_type": "code",
      "source": [
        "class CarDamageMulticlassSegmentationDataset(Dataset):\n",
        "    def __init__(self, image_dir, mask_dir, image_size=(256, 256), aug=False, num_classes=None):\n",
        "        self.image_dir = image_dir\n",
        "        self.mask_dir = mask_dir\n",
        "        self.image_size = image_size\n",
        "        self.aug = aug\n",
        "        self.num_classes = num_classes\n",
        "        self.images = sorted([\n",
        "            f for f in os.listdir(image_dir)\n",
        "            if f.lower().endswith(('.jpg', '.jpeg', '.png'))\n",
        "        ])\n",
        "        self.resize = transforms.Resize(self.image_size)\n",
        "        self.to_tensor = transforms.ToTensor()\n",
        "    def augment(self, image, mask):\n",
        "        if random.random() > 0.5:\n",
        "            image, mask = TF.hflip(image), TF.hflip(mask)\n",
        "        if random.random() > 0.9:\n",
        "            image, mask = TF.vflip(image), TF.vflip(mask)\n",
        "        angle = random.uniform(-15, 15)\n",
        "        image, mask = TF.rotate(image, angle), TF.rotate(mask, angle)\n",
        "        if random.random() > 0.7:\n",
        "            image = TF.adjust_brightness(image, brightness_factor=random.uniform(0.8, 1.2))\n",
        "            image = TF.adjust_contrast(image, contrast_factor=random.uniform(0.8, 1.2))\n",
        "        return image, mask\n",
        "    def __len__(self):\n",
        "        return len(self.images)\n",
        "    def __getitem__(self, idx):\n",
        "        img_name = self.images[idx]\n",
        "        base = os.path.splitext(img_name)[0]\n",
        "        img_path = os.path.join(self.image_dir, img_name)\n",
        "        mask_path = os.path.join(self.mask_dir, base + '_mask.png')\n",
        "        image = Image.open(img_path).convert('RGB')\n",
        "        mask = Image.open(mask_path).convert('L')\n",
        "        image = self.resize(image)\n",
        "        mask = mask.resize(self.image_size, resample=Image.NEAREST)\n",
        "        if self.aug:\n",
        "            image, mask = self.augment(image, mask)\n",
        "        image = self.to_tensor(image)\n",
        "        mask_np = np.array(mask, dtype=np.uint8)\n",
        "        mask_tensor = torch.from_numpy(mask_np).long()\n",
        "        # --- Data checks\n",
        "        if mask_tensor.min() < 0 or mask_tensor.max() >= self.num_classes:\n",
        "            raise ValueError(\n",
        "                f\"Mask in {mask_path} out-of-range indices: {mask_tensor.min()} to {mask_tensor.max()}\"\n",
        "            )\n",
        "        if mask_tensor.ndim != 2:\n",
        "            raise ValueError(\n",
        "                f\"Mask in {mask_path} should have 2 dims, got {mask_tensor.shape}\"\n",
        "            )\n",
        "        return image, mask_tensor\n"
      ],
      "metadata": {
        "id": "-p-UujdpFb8J"
      },
      "execution_count": 6,
      "outputs": []
    },
    {
      "cell_type": "code",
      "source": [
        "train_dataset = CarDamageMulticlassSegmentationDataset(\n",
        "    image_dir='Vehicle_Damage/train',\n",
        "    mask_dir='Vehicle_Damage/train/masks',\n",
        "    aug=True,\n",
        "    num_classes=num_classes\n",
        ")\n",
        "val_dataset = CarDamageMulticlassSegmentationDataset(\n",
        "    image_dir='Vehicle_Damage/val',\n",
        "    mask_dir='Vehicle_Damage/val/masks',\n",
        "    aug=False,\n",
        "    num_classes=num_classes\n",
        ")\n",
        "from torch.utils.data import DataLoader\n",
        "train_loader = DataLoader(train_dataset, batch_size=8, shuffle=True)\n",
        "val_loader = DataLoader(val_dataset, batch_size=8, shuffle=False)\n"
      ],
      "metadata": {
        "id": "NC5FxZp1Fh47"
      },
      "execution_count": 7,
      "outputs": []
    },
    {
      "cell_type": "code",
      "source": [
        "import torch.nn as nn\n",
        "import torch\n",
        "\n",
        "weights = 1. / torch.tensor(class_counts, dtype=torch.float32)\n",
        "weights = weights / weights.sum()\n",
        "device = torch.device('cuda' if torch.cuda.is_available() else 'cpu')\n",
        "weights = weights.to(device)\n",
        "criterion = nn.CrossEntropyLoss(weight=weights)\n"
      ],
      "metadata": {
        "id": "OexnfeymFqU5"
      },
      "execution_count": 8,
      "outputs": []
    },
    {
      "cell_type": "code",
      "source": [
        "import segmentation_models_pytorch as smp\n",
        "\n",
        "model = smp.Unet(\n",
        "    encoder_name='resnet34',           # Or try: 'resnet50', 'efficientnet-b0', etc.\n",
        "    encoder_weights='imagenet',        # Pretrained weights\n",
        "    in_channels=3,\n",
        "    classes=num_classes\n",
        ").to(device)\n"
      ],
      "metadata": {
        "id": "8pQxFuE-FsSb",
        "colab": {
          "base_uri": "https://localhost:8080/",
          "height": 185,
          "referenced_widgets": [
            "ccdccd39242f4a5ba974e2997a4f4e4f",
            "3d0022dc619c439f8108ae16cde3cf28",
            "9a97087fb65443448e0a5325d457cb20",
            "9262f4d891e54a1f8c9bbc11274a9366",
            "a127ea4c22e947fc9ca3fec352507f93",
            "e023da5ac47a4e7eb16267801e2df865",
            "a137c8dc3315408aac71e46860eefbb3",
            "1482bef73958480587fce16548de44cc",
            "8f62eb35bd114b958ac6500441584134",
            "d578ecb77f89477489a5f126de21064d",
            "e3e60176d5eb459aa85c5cac573464e6",
            "e0febfa2f0da421f8a11b87ee14f14af",
            "f425dbeb83bc4c32a9ec5e228233394d",
            "3cf0684743034b01a64451ba10cf4b16",
            "f5c05770b8184f82a2120bbd2321d219",
            "284619a896544cd39d541c9b3742cc29",
            "a84370c1a717431cb47a894fe5985aec",
            "14eaa04ee69143eebf9f922493ae97f6",
            "5cb5d98902bf4622818c78d9f5b5f121",
            "d3749121e02c4a58937f9b09e5416fee",
            "ea81be6c1e59487eb0c55fb73b8528ff",
            "cefa6c9664b44c72b8dcbcb4bba31d7b"
          ]
        },
        "outputId": "05a229b1-f48a-429d-c823-97f2ac4aa072"
      },
      "execution_count": 9,
      "outputs": [
        {
          "output_type": "stream",
          "name": "stderr",
          "text": [
            "/usr/local/lib/python3.11/dist-packages/huggingface_hub/utils/_auth.py:94: UserWarning: \n",
            "The secret `HF_TOKEN` does not exist in your Colab secrets.\n",
            "To authenticate with the Hugging Face Hub, create a token in your settings tab (https://huggingface.co/settings/tokens), set it as secret in your Google Colab and restart your session.\n",
            "You will be able to reuse this secret in all of your notebooks.\n",
            "Please note that authentication is recommended but still optional to access public models or datasets.\n",
            "  warnings.warn(\n"
          ]
        },
        {
          "output_type": "display_data",
          "data": {
            "text/plain": [
              "config.json:   0%|          | 0.00/156 [00:00<?, ?B/s]"
            ],
            "application/vnd.jupyter.widget-view+json": {
              "version_major": 2,
              "version_minor": 0,
              "model_id": "ccdccd39242f4a5ba974e2997a4f4e4f"
            }
          },
          "metadata": {}
        },
        {
          "output_type": "display_data",
          "data": {
            "text/plain": [
              "model.safetensors:   0%|          | 0.00/87.3M [00:00<?, ?B/s]"
            ],
            "application/vnd.jupyter.widget-view+json": {
              "version_major": 2,
              "version_minor": 0,
              "model_id": "e0febfa2f0da421f8a11b87ee14f14af"
            }
          },
          "metadata": {}
        }
      ]
    },
    {
      "cell_type": "code",
      "source": [
        "import torch.optim as optim\n",
        "from tqdm import tqdm\n",
        "\n",
        "optimizer = optim.Adam(model.parameters(), lr=1e-4)\n",
        "epochs = 20\n",
        "\n",
        "for epoch in range(epochs):\n",
        "    model.train()\n",
        "    train_loss = 0\n",
        "    for images, masks in tqdm(train_loader):\n",
        "        images, masks = images.to(device), masks.to(device)\n",
        "        outputs = model(images)\n",
        "        loss = criterion(outputs, masks)\n",
        "        optimizer.zero_grad()\n",
        "        loss.backward()\n",
        "        optimizer.step()\n",
        "        train_loss += loss.item()\n",
        "        # Debug: check classes in batch\n",
        "        print(\"Batch GT classes:\", torch.unique(masks).tolist())\n",
        "        print(\"Batch pred classes:\", torch.unique(outputs.argmax(dim=1)).tolist())\n",
        "    print(f\"Epoch {epoch+1}/{epochs}, Train Loss: {train_loss/len(train_loader):.4f}\")\n",
        "\n",
        "    # Validation\n",
        "    model.eval()\n",
        "    val_loss = 0\n",
        "    with torch.no_grad():\n",
        "        for images, masks in val_loader:\n",
        "            images, masks = images.to(device), masks.to(device)\n",
        "            outputs = model(images)\n",
        "            val_loss += criterion(outputs, masks).item()\n",
        "            print(\"Val GT classes:\", torch.unique(masks).tolist())\n",
        "            print(\"Val pred classes:\", torch.unique(outputs.argmax(dim=1)).tolist())\n",
        "    print(f\"Validation Loss: {val_loss/len(val_loader):.4f}\")\n"
      ],
      "metadata": {
        "colab": {
          "base_uri": "https://localhost:8080/"
        },
        "id": "sCBh-hl4Fuck",
        "outputId": "3ddd23a3-0e45-4111-ef8a-316b41114aa8"
      },
      "execution_count": 10,
      "outputs": [
        {
          "output_type": "stream",
          "name": "stderr",
          "text": [
            " 12%|█▎        | 1/8 [00:01<00:07,  1.10s/it]"
          ]
        },
        {
          "output_type": "stream",
          "name": "stdout",
          "text": [
            "Batch GT classes: [0, 1, 2, 3, 4, 5]\n",
            "Batch pred classes: [0, 1, 2, 3, 4, 5]\n"
          ]
        },
        {
          "output_type": "stream",
          "name": "stderr",
          "text": [
            "\r 25%|██▌       | 2/8 [00:01<00:03,  1.52it/s]"
          ]
        },
        {
          "output_type": "stream",
          "name": "stdout",
          "text": [
            "Batch GT classes: [0, 1, 2, 3, 4, 5]\n",
            "Batch pred classes: [0, 1, 2, 3, 4, 5]\n"
          ]
        },
        {
          "output_type": "stream",
          "name": "stderr",
          "text": [
            "\r 38%|███▊      | 3/8 [00:01<00:02,  1.98it/s]"
          ]
        },
        {
          "output_type": "stream",
          "name": "stdout",
          "text": [
            "Batch GT classes: [0, 1, 2, 3, 4, 5]\n",
            "Batch pred classes: [0, 1, 2, 3, 4, 5]\n"
          ]
        },
        {
          "output_type": "stream",
          "name": "stderr",
          "text": [
            "\r 50%|█████     | 4/8 [00:02<00:01,  2.35it/s]"
          ]
        },
        {
          "output_type": "stream",
          "name": "stdout",
          "text": [
            "Batch GT classes: [0, 1, 2, 3, 4, 5]\n",
            "Batch pred classes: [0, 1, 2, 3, 4, 5]\n"
          ]
        },
        {
          "output_type": "stream",
          "name": "stderr",
          "text": [
            "\r 62%|██████▎   | 5/8 [00:02<00:01,  2.63it/s]"
          ]
        },
        {
          "output_type": "stream",
          "name": "stdout",
          "text": [
            "Batch GT classes: [0, 1, 2, 3, 4, 5]\n",
            "Batch pred classes: [0, 1, 2, 3, 4, 5]\n"
          ]
        },
        {
          "output_type": "stream",
          "name": "stderr",
          "text": [
            "\r 75%|███████▌  | 6/8 [00:02<00:00,  2.81it/s]"
          ]
        },
        {
          "output_type": "stream",
          "name": "stdout",
          "text": [
            "Batch GT classes: [0, 1, 2, 3, 4, 5]\n",
            "Batch pred classes: [0, 1, 2, 3, 4, 5]\n"
          ]
        },
        {
          "output_type": "stream",
          "name": "stderr",
          "text": [
            "100%|██████████| 8/8 [00:03<00:00,  2.54it/s]"
          ]
        },
        {
          "output_type": "stream",
          "name": "stdout",
          "text": [
            "Batch GT classes: [0, 1, 2, 3, 4, 5]\n",
            "Batch pred classes: [0, 1, 2, 3, 4, 5]\n",
            "Batch GT classes: [0, 1, 2, 3]\n",
            "Batch pred classes: [0, 1, 2, 3, 4, 5]\n",
            "Epoch 1/20, Train Loss: 2.1550\n"
          ]
        },
        {
          "output_type": "stream",
          "name": "stderr",
          "text": [
            "\n"
          ]
        },
        {
          "output_type": "stream",
          "name": "stdout",
          "text": [
            "Val GT classes: [0, 1, 2, 3, 4, 5]\n",
            "Val pred classes: [0, 1, 2, 3, 4, 5]\n",
            "Val GT classes: [0, 1, 3, 4, 5]\n",
            "Val pred classes: [0, 1, 2, 3, 4, 5]\n",
            "Validation Loss: 1.7521\n"
          ]
        },
        {
          "output_type": "stream",
          "name": "stderr",
          "text": [
            " 12%|█▎        | 1/8 [00:00<00:01,  4.42it/s]"
          ]
        },
        {
          "output_type": "stream",
          "name": "stdout",
          "text": [
            "Batch GT classes: [0, 1, 2, 3, 4, 5]\n",
            "Batch pred classes: [0, 1, 2, 3, 4, 5]\n"
          ]
        },
        {
          "output_type": "stream",
          "name": "stderr",
          "text": [
            "\r 25%|██▌       | 2/8 [00:00<00:01,  4.33it/s]"
          ]
        },
        {
          "output_type": "stream",
          "name": "stdout",
          "text": [
            "Batch GT classes: [0, 1, 2, 3, 4, 5]\n",
            "Batch pred classes: [0, 1, 2, 3, 4, 5]\n"
          ]
        },
        {
          "output_type": "stream",
          "name": "stderr",
          "text": [
            "\r 38%|███▊      | 3/8 [00:00<00:01,  4.35it/s]"
          ]
        },
        {
          "output_type": "stream",
          "name": "stdout",
          "text": [
            "Batch GT classes: [0, 1, 2, 3, 4, 5]\n",
            "Batch pred classes: [0, 1, 2, 3, 4, 5]\n"
          ]
        },
        {
          "output_type": "stream",
          "name": "stderr",
          "text": [
            "\r 50%|█████     | 4/8 [00:00<00:00,  4.28it/s]"
          ]
        },
        {
          "output_type": "stream",
          "name": "stdout",
          "text": [
            "Batch GT classes: [0, 1, 2, 3, 4, 5]\n",
            "Batch pred classes: [0, 1, 2, 3, 4, 5]\n"
          ]
        },
        {
          "output_type": "stream",
          "name": "stderr",
          "text": [
            "\r 62%|██████▎   | 5/8 [00:01<00:00,  4.21it/s]"
          ]
        },
        {
          "output_type": "stream",
          "name": "stdout",
          "text": [
            "Batch GT classes: [0, 1, 3, 4, 5]\n",
            "Batch pred classes: [0, 1, 2, 3, 4, 5]\n"
          ]
        },
        {
          "output_type": "stream",
          "name": "stderr",
          "text": [
            "\r 75%|███████▌  | 6/8 [00:01<00:00,  4.27it/s]"
          ]
        },
        {
          "output_type": "stream",
          "name": "stdout",
          "text": [
            "Batch GT classes: [0, 1, 2, 3, 4, 5]\n",
            "Batch pred classes: [0, 1, 2, 3, 4, 5]\n"
          ]
        },
        {
          "output_type": "stream",
          "name": "stderr",
          "text": [
            "100%|██████████| 8/8 [00:01<00:00,  4.61it/s]"
          ]
        },
        {
          "output_type": "stream",
          "name": "stdout",
          "text": [
            "Batch GT classes: [0, 1, 2, 3, 4, 5]\n",
            "Batch pred classes: [0, 1, 2, 3, 4, 5]\n",
            "Batch GT classes: [0, 1, 3, 4, 5]\n",
            "Batch pred classes: [0, 1, 2, 3, 4, 5]\n",
            "Epoch 2/20, Train Loss: 1.8461\n"
          ]
        },
        {
          "output_type": "stream",
          "name": "stderr",
          "text": [
            "\n"
          ]
        },
        {
          "output_type": "stream",
          "name": "stdout",
          "text": [
            "Val GT classes: [0, 1, 2, 3, 4, 5]\n",
            "Val pred classes: [0, 1, 2, 3, 4, 5]\n",
            "Val GT classes: [0, 1, 3, 4, 5]\n",
            "Val pred classes: [0, 1, 2, 3, 4, 5]\n",
            "Validation Loss: 1.7065\n"
          ]
        },
        {
          "output_type": "stream",
          "name": "stderr",
          "text": [
            " 12%|█▎        | 1/8 [00:00<00:01,  4.39it/s]"
          ]
        },
        {
          "output_type": "stream",
          "name": "stdout",
          "text": [
            "Batch GT classes: [0, 1, 2, 3, 4, 5]\n",
            "Batch pred classes: [0, 1, 2, 3, 4, 5]\n"
          ]
        },
        {
          "output_type": "stream",
          "name": "stderr",
          "text": [
            "\r 25%|██▌       | 2/8 [00:00<00:01,  4.37it/s]"
          ]
        },
        {
          "output_type": "stream",
          "name": "stdout",
          "text": [
            "Batch GT classes: [0, 1, 2, 3, 4, 5]\n",
            "Batch pred classes: [0, 1, 2, 3, 4, 5]\n"
          ]
        },
        {
          "output_type": "stream",
          "name": "stderr",
          "text": [
            "\r 38%|███▊      | 3/8 [00:00<00:01,  4.32it/s]"
          ]
        },
        {
          "output_type": "stream",
          "name": "stdout",
          "text": [
            "Batch GT classes: [0, 1, 2, 3, 4, 5]\n",
            "Batch pred classes: [0, 1, 2, 3, 4, 5]\n"
          ]
        },
        {
          "output_type": "stream",
          "name": "stderr",
          "text": [
            "\r 50%|█████     | 4/8 [00:00<00:00,  4.29it/s]"
          ]
        },
        {
          "output_type": "stream",
          "name": "stdout",
          "text": [
            "Batch GT classes: [0, 1, 2, 3, 4, 5]\n",
            "Batch pred classes: [0, 1, 2, 3, 4, 5]\n"
          ]
        },
        {
          "output_type": "stream",
          "name": "stderr",
          "text": [
            "\r 62%|██████▎   | 5/8 [00:01<00:00,  4.29it/s]"
          ]
        },
        {
          "output_type": "stream",
          "name": "stdout",
          "text": [
            "Batch GT classes: [0, 1, 2, 3, 4, 5]\n",
            "Batch pred classes: [0, 1, 2, 3, 4, 5]\n"
          ]
        },
        {
          "output_type": "stream",
          "name": "stderr",
          "text": [
            "\r 75%|███████▌  | 6/8 [00:01<00:00,  4.25it/s]"
          ]
        },
        {
          "output_type": "stream",
          "name": "stdout",
          "text": [
            "Batch GT classes: [0, 1, 2, 3, 4, 5]\n",
            "Batch pred classes: [0, 1, 2, 3, 4, 5]\n"
          ]
        },
        {
          "output_type": "stream",
          "name": "stderr",
          "text": [
            "100%|██████████| 8/8 [00:01<00:00,  4.64it/s]"
          ]
        },
        {
          "output_type": "stream",
          "name": "stdout",
          "text": [
            "Batch GT classes: [0, 1, 2, 3, 4, 5]\n",
            "Batch pred classes: [0, 1, 2, 3, 4, 5]\n",
            "Batch GT classes: [0, 1, 3, 4, 5]\n",
            "Batch pred classes: [0, 1, 2, 3, 4, 5]\n",
            "Epoch 3/20, Train Loss: 1.6788\n"
          ]
        },
        {
          "output_type": "stream",
          "name": "stderr",
          "text": [
            "\n"
          ]
        },
        {
          "output_type": "stream",
          "name": "stdout",
          "text": [
            "Val GT classes: [0, 1, 2, 3, 4, 5]\n",
            "Val pred classes: [0, 1, 2, 3, 4, 5]\n",
            "Val GT classes: [0, 1, 3, 4, 5]\n",
            "Val pred classes: [0, 1, 2, 3, 4, 5]\n",
            "Validation Loss: 1.6683\n"
          ]
        },
        {
          "output_type": "stream",
          "name": "stderr",
          "text": [
            " 12%|█▎        | 1/8 [00:00<00:01,  4.29it/s]"
          ]
        },
        {
          "output_type": "stream",
          "name": "stdout",
          "text": [
            "Batch GT classes: [0, 1, 2, 3, 4, 5]\n",
            "Batch pred classes: [0, 1, 2, 3, 4, 5]\n"
          ]
        },
        {
          "output_type": "stream",
          "name": "stderr",
          "text": [
            "\r 25%|██▌       | 2/8 [00:00<00:01,  4.39it/s]"
          ]
        },
        {
          "output_type": "stream",
          "name": "stdout",
          "text": [
            "Batch GT classes: [0, 1, 2, 3, 4, 5]\n",
            "Batch pred classes: [0, 1, 2, 3, 4, 5]\n"
          ]
        },
        {
          "output_type": "stream",
          "name": "stderr",
          "text": [
            "\r 38%|███▊      | 3/8 [00:00<00:01,  4.37it/s]"
          ]
        },
        {
          "output_type": "stream",
          "name": "stdout",
          "text": [
            "Batch GT classes: [0, 1, 2, 3, 4, 5]\n",
            "Batch pred classes: [0, 1, 2, 3, 4, 5]\n"
          ]
        },
        {
          "output_type": "stream",
          "name": "stderr",
          "text": [
            "\r 50%|█████     | 4/8 [00:00<00:00,  4.34it/s]"
          ]
        },
        {
          "output_type": "stream",
          "name": "stdout",
          "text": [
            "Batch GT classes: [0, 1, 2, 3, 4, 5]\n",
            "Batch pred classes: [0, 1, 2, 3, 4, 5]\n"
          ]
        },
        {
          "output_type": "stream",
          "name": "stderr",
          "text": [
            "\r 62%|██████▎   | 5/8 [00:01<00:00,  4.35it/s]"
          ]
        },
        {
          "output_type": "stream",
          "name": "stdout",
          "text": [
            "Batch GT classes: [0, 1, 2, 3, 4, 5]\n",
            "Batch pred classes: [0, 1, 2, 3, 4, 5]\n"
          ]
        },
        {
          "output_type": "stream",
          "name": "stderr",
          "text": [
            "\r 75%|███████▌  | 6/8 [00:01<00:00,  4.31it/s]"
          ]
        },
        {
          "output_type": "stream",
          "name": "stdout",
          "text": [
            "Batch GT classes: [0, 1, 2, 3, 4, 5]\n",
            "Batch pred classes: [0, 1, 2, 3, 4, 5]\n"
          ]
        },
        {
          "output_type": "stream",
          "name": "stderr",
          "text": [
            "100%|██████████| 8/8 [00:01<00:00,  4.65it/s]"
          ]
        },
        {
          "output_type": "stream",
          "name": "stdout",
          "text": [
            "Batch GT classes: [0, 1, 2, 3, 4, 5]\n",
            "Batch pred classes: [0, 1, 2, 3, 4, 5]\n",
            "Batch GT classes: [0, 1, 2, 3, 4, 5]\n",
            "Batch pred classes: [0, 1, 2, 3, 4, 5]\n",
            "Epoch 4/20, Train Loss: 1.5140\n"
          ]
        },
        {
          "output_type": "stream",
          "name": "stderr",
          "text": [
            "\n"
          ]
        },
        {
          "output_type": "stream",
          "name": "stdout",
          "text": [
            "Val GT classes: [0, 1, 2, 3, 4, 5]\n",
            "Val pred classes: [0, 1, 2, 3, 4, 5]\n",
            "Val GT classes: [0, 1, 3, 4, 5]\n",
            "Val pred classes: [0, 1, 2, 3, 4, 5]\n",
            "Validation Loss: 1.4786\n"
          ]
        },
        {
          "output_type": "stream",
          "name": "stderr",
          "text": [
            " 12%|█▎        | 1/8 [00:00<00:01,  4.39it/s]"
          ]
        },
        {
          "output_type": "stream",
          "name": "stdout",
          "text": [
            "Batch GT classes: [0, 1, 2, 3, 4, 5]\n",
            "Batch pred classes: [0, 1, 2, 3, 4, 5]\n"
          ]
        },
        {
          "output_type": "stream",
          "name": "stderr",
          "text": [
            "\r 25%|██▌       | 2/8 [00:00<00:01,  4.31it/s]"
          ]
        },
        {
          "output_type": "stream",
          "name": "stdout",
          "text": [
            "Batch GT classes: [0, 1, 2, 3, 4, 5]\n",
            "Batch pred classes: [0, 1, 2, 3, 4, 5]\n"
          ]
        },
        {
          "output_type": "stream",
          "name": "stderr",
          "text": [
            "\r 38%|███▊      | 3/8 [00:00<00:01,  4.36it/s]"
          ]
        },
        {
          "output_type": "stream",
          "name": "stdout",
          "text": [
            "Batch GT classes: [0, 1, 2, 3, 4, 5]\n",
            "Batch pred classes: [0, 1, 2, 3, 4, 5]\n"
          ]
        },
        {
          "output_type": "stream",
          "name": "stderr",
          "text": [
            "\r 50%|█████     | 4/8 [00:00<00:00,  4.33it/s]"
          ]
        },
        {
          "output_type": "stream",
          "name": "stdout",
          "text": [
            "Batch GT classes: [0, 1, 2, 3, 4, 5]\n",
            "Batch pred classes: [0, 1, 2, 3, 4, 5]\n"
          ]
        },
        {
          "output_type": "stream",
          "name": "stderr",
          "text": [
            "\r 62%|██████▎   | 5/8 [00:01<00:00,  4.32it/s]"
          ]
        },
        {
          "output_type": "stream",
          "name": "stdout",
          "text": [
            "Batch GT classes: [0, 1, 2, 3, 4, 5]\n",
            "Batch pred classes: [0, 1, 2, 3, 4, 5]\n"
          ]
        },
        {
          "output_type": "stream",
          "name": "stderr",
          "text": [
            "\r 75%|███████▌  | 6/8 [00:01<00:00,  4.21it/s]"
          ]
        },
        {
          "output_type": "stream",
          "name": "stdout",
          "text": [
            "Batch GT classes: [0, 1, 2, 3, 4, 5]\n",
            "Batch pred classes: [0, 1, 2, 3, 4, 5]\n"
          ]
        },
        {
          "output_type": "stream",
          "name": "stderr",
          "text": [
            "100%|██████████| 8/8 [00:01<00:00,  4.59it/s]"
          ]
        },
        {
          "output_type": "stream",
          "name": "stdout",
          "text": [
            "Batch GT classes: [0, 1, 2, 3, 4, 5]\n",
            "Batch pred classes: [0, 1, 2, 3, 4, 5]\n",
            "Batch GT classes: [0, 1, 3, 4, 5]\n",
            "Batch pred classes: [0, 1, 2, 3, 4, 5]\n",
            "Epoch 5/20, Train Loss: 1.3772\n"
          ]
        },
        {
          "output_type": "stream",
          "name": "stderr",
          "text": [
            "\n"
          ]
        },
        {
          "output_type": "stream",
          "name": "stdout",
          "text": [
            "Val GT classes: [0, 1, 2, 3, 4, 5]\n",
            "Val pred classes: [0, 1, 2, 3, 4, 5]\n",
            "Val GT classes: [0, 1, 3, 4, 5]\n",
            "Val pred classes: [0, 1, 2, 3, 4, 5]\n",
            "Validation Loss: 1.3097\n"
          ]
        },
        {
          "output_type": "stream",
          "name": "stderr",
          "text": [
            " 12%|█▎        | 1/8 [00:00<00:01,  4.34it/s]"
          ]
        },
        {
          "output_type": "stream",
          "name": "stdout",
          "text": [
            "Batch GT classes: [0, 1, 2, 3, 4, 5]\n",
            "Batch pred classes: [0, 1, 2, 3, 4, 5]\n"
          ]
        },
        {
          "output_type": "stream",
          "name": "stderr",
          "text": [
            "\r 25%|██▌       | 2/8 [00:00<00:01,  4.22it/s]"
          ]
        },
        {
          "output_type": "stream",
          "name": "stdout",
          "text": [
            "Batch GT classes: [0, 1, 2, 3, 4, 5]\n",
            "Batch pred classes: [0, 1, 2, 3, 4, 5]\n"
          ]
        },
        {
          "output_type": "stream",
          "name": "stderr",
          "text": [
            "\r 38%|███▊      | 3/8 [00:00<00:01,  4.24it/s]"
          ]
        },
        {
          "output_type": "stream",
          "name": "stdout",
          "text": [
            "Batch GT classes: [0, 1, 2, 3, 4, 5]\n",
            "Batch pred classes: [0, 1, 2, 3, 4, 5]\n"
          ]
        },
        {
          "output_type": "stream",
          "name": "stderr",
          "text": [
            "\r 50%|█████     | 4/8 [00:00<00:00,  4.21it/s]"
          ]
        },
        {
          "output_type": "stream",
          "name": "stdout",
          "text": [
            "Batch GT classes: [0, 1, 2, 3, 4, 5]\n",
            "Batch pred classes: [0, 1, 2, 3, 4, 5]\n"
          ]
        },
        {
          "output_type": "stream",
          "name": "stderr",
          "text": [
            "\r 62%|██████▎   | 5/8 [00:01<00:00,  4.24it/s]"
          ]
        },
        {
          "output_type": "stream",
          "name": "stdout",
          "text": [
            "Batch GT classes: [0, 1, 2, 3, 4, 5]\n",
            "Batch pred classes: [0, 1, 2, 3, 4, 5]\n"
          ]
        },
        {
          "output_type": "stream",
          "name": "stderr",
          "text": [
            "\r 75%|███████▌  | 6/8 [00:01<00:00,  4.20it/s]"
          ]
        },
        {
          "output_type": "stream",
          "name": "stdout",
          "text": [
            "Batch GT classes: [0, 1, 2, 3, 4, 5]\n",
            "Batch pred classes: [0, 1, 2, 3, 4, 5]\n"
          ]
        },
        {
          "output_type": "stream",
          "name": "stderr",
          "text": [
            "100%|██████████| 8/8 [00:01<00:00,  4.56it/s]"
          ]
        },
        {
          "output_type": "stream",
          "name": "stdout",
          "text": [
            "Batch GT classes: [0, 1, 2, 3, 4, 5]\n",
            "Batch pred classes: [0, 1, 2, 3, 4, 5]\n",
            "Batch GT classes: [0, 1, 3, 4, 5]\n",
            "Batch pred classes: [0, 1, 2, 3, 4, 5]\n",
            "Epoch 6/20, Train Loss: 1.2272\n"
          ]
        },
        {
          "output_type": "stream",
          "name": "stderr",
          "text": [
            "\n"
          ]
        },
        {
          "output_type": "stream",
          "name": "stdout",
          "text": [
            "Val GT classes: [0, 1, 2, 3, 4, 5]\n",
            "Val pred classes: [0, 1, 2, 3, 4, 5]\n",
            "Val GT classes: [0, 1, 3, 4, 5]\n",
            "Val pred classes: [0, 1, 2, 3, 4, 5]\n",
            "Validation Loss: 1.2051\n"
          ]
        },
        {
          "output_type": "stream",
          "name": "stderr",
          "text": [
            " 12%|█▎        | 1/8 [00:00<00:01,  4.16it/s]"
          ]
        },
        {
          "output_type": "stream",
          "name": "stdout",
          "text": [
            "Batch GT classes: [0, 1, 2, 3, 4, 5]\n",
            "Batch pred classes: [0, 1, 2, 3, 4, 5]\n"
          ]
        },
        {
          "output_type": "stream",
          "name": "stderr",
          "text": [
            "\r 25%|██▌       | 2/8 [00:00<00:01,  3.52it/s]"
          ]
        },
        {
          "output_type": "stream",
          "name": "stdout",
          "text": [
            "Batch GT classes: [0, 1, 2, 3, 4, 5]\n",
            "Batch pred classes: [0, 1, 2, 3, 4, 5]\n"
          ]
        },
        {
          "output_type": "stream",
          "name": "stderr",
          "text": [
            "\r 38%|███▊      | 3/8 [00:00<00:01,  3.37it/s]"
          ]
        },
        {
          "output_type": "stream",
          "name": "stdout",
          "text": [
            "Batch GT classes: [0, 1, 2, 3, 4, 5]\n",
            "Batch pred classes: [0, 1, 2, 3, 4, 5]\n"
          ]
        },
        {
          "output_type": "stream",
          "name": "stderr",
          "text": [
            "\r 50%|█████     | 4/8 [00:01<00:01,  3.34it/s]"
          ]
        },
        {
          "output_type": "stream",
          "name": "stdout",
          "text": [
            "Batch GT classes: [0, 1, 2, 3, 4, 5]\n",
            "Batch pred classes: [0, 1, 2, 3, 4, 5]\n"
          ]
        },
        {
          "output_type": "stream",
          "name": "stderr",
          "text": [
            "\r 62%|██████▎   | 5/8 [00:01<00:00,  3.31it/s]"
          ]
        },
        {
          "output_type": "stream",
          "name": "stdout",
          "text": [
            "Batch GT classes: [0, 1, 2, 3, 4, 5]\n",
            "Batch pred classes: [0, 1, 2, 3, 4, 5]\n"
          ]
        },
        {
          "output_type": "stream",
          "name": "stderr",
          "text": [
            "\r 75%|███████▌  | 6/8 [00:01<00:00,  3.29it/s]"
          ]
        },
        {
          "output_type": "stream",
          "name": "stdout",
          "text": [
            "Batch GT classes: [0, 1, 2, 3, 4, 5]\n",
            "Batch pred classes: [0, 1, 2, 3, 4, 5]\n"
          ]
        },
        {
          "output_type": "stream",
          "name": "stderr",
          "text": [
            "100%|██████████| 8/8 [00:02<00:00,  3.63it/s]"
          ]
        },
        {
          "output_type": "stream",
          "name": "stdout",
          "text": [
            "Batch GT classes: [0, 1, 2, 3, 4, 5]\n",
            "Batch pred classes: [0, 1, 2, 3, 4, 5]\n",
            "Batch GT classes: [0, 1, 2, 3, 4, 5]\n",
            "Batch pred classes: [0, 1, 2, 3, 4, 5]\n",
            "Epoch 7/20, Train Loss: 1.0941\n"
          ]
        },
        {
          "output_type": "stream",
          "name": "stderr",
          "text": [
            "\n"
          ]
        },
        {
          "output_type": "stream",
          "name": "stdout",
          "text": [
            "Val GT classes: [0, 1, 2, 3, 4, 5]\n",
            "Val pred classes: [0, 1, 2, 3, 4, 5]\n",
            "Val GT classes: [0, 1, 3, 4, 5]\n",
            "Val pred classes: [0, 1, 2, 3, 4, 5]\n",
            "Validation Loss: 1.1101\n"
          ]
        },
        {
          "output_type": "stream",
          "name": "stderr",
          "text": [
            " 12%|█▎        | 1/8 [00:00<00:01,  4.13it/s]"
          ]
        },
        {
          "output_type": "stream",
          "name": "stdout",
          "text": [
            "Batch GT classes: [0, 1, 2, 3, 4, 5]\n",
            "Batch pred classes: [0, 1, 2, 3, 4, 5]\n"
          ]
        },
        {
          "output_type": "stream",
          "name": "stderr",
          "text": [
            "\r 25%|██▌       | 2/8 [00:00<00:01,  4.24it/s]"
          ]
        },
        {
          "output_type": "stream",
          "name": "stdout",
          "text": [
            "Batch GT classes: [0, 1, 2, 3, 4, 5]\n",
            "Batch pred classes: [0, 1, 2, 3, 4, 5]\n"
          ]
        },
        {
          "output_type": "stream",
          "name": "stderr",
          "text": [
            "\r 38%|███▊      | 3/8 [00:00<00:01,  4.14it/s]"
          ]
        },
        {
          "output_type": "stream",
          "name": "stdout",
          "text": [
            "Batch GT classes: [0, 1, 2, 3, 4, 5]\n",
            "Batch pred classes: [0, 1, 2, 3, 4, 5]\n"
          ]
        },
        {
          "output_type": "stream",
          "name": "stderr",
          "text": [
            "\r 50%|█████     | 4/8 [00:00<00:00,  4.21it/s]"
          ]
        },
        {
          "output_type": "stream",
          "name": "stdout",
          "text": [
            "Batch GT classes: [0, 1, 2, 3, 4, 5]\n",
            "Batch pred classes: [0, 1, 2, 3, 4, 5]\n"
          ]
        },
        {
          "output_type": "stream",
          "name": "stderr",
          "text": [
            "\r 62%|██████▎   | 5/8 [00:01<00:00,  4.17it/s]"
          ]
        },
        {
          "output_type": "stream",
          "name": "stdout",
          "text": [
            "Batch GT classes: [0, 1, 2, 3, 4, 5]\n",
            "Batch pred classes: [0, 1, 2, 3, 4, 5]\n"
          ]
        },
        {
          "output_type": "stream",
          "name": "stderr",
          "text": [
            "\r 75%|███████▌  | 6/8 [00:01<00:00,  4.22it/s]"
          ]
        },
        {
          "output_type": "stream",
          "name": "stdout",
          "text": [
            "Batch GT classes: [0, 1, 2, 3, 4, 5]\n",
            "Batch pred classes: [0, 1, 2, 3, 4, 5]\n"
          ]
        },
        {
          "output_type": "stream",
          "name": "stderr",
          "text": [
            "100%|██████████| 8/8 [00:01<00:00,  4.55it/s]"
          ]
        },
        {
          "output_type": "stream",
          "name": "stdout",
          "text": [
            "Batch GT classes: [0, 1, 2, 3, 4, 5]\n",
            "Batch pred classes: [0, 1, 2, 3, 4, 5]\n",
            "Batch GT classes: [0, 1, 2, 4, 5]\n",
            "Batch pred classes: [0, 1, 2, 3, 4, 5]\n",
            "Epoch 8/20, Train Loss: 1.0382\n"
          ]
        },
        {
          "output_type": "stream",
          "name": "stderr",
          "text": [
            "\n"
          ]
        },
        {
          "output_type": "stream",
          "name": "stdout",
          "text": [
            "Val GT classes: [0, 1, 2, 3, 4, 5]\n",
            "Val pred classes: [0, 1, 2, 3, 4, 5]\n",
            "Val GT classes: [0, 1, 3, 4, 5]\n",
            "Val pred classes: [0, 1, 2, 3, 4, 5]\n",
            "Validation Loss: 1.0282\n"
          ]
        },
        {
          "output_type": "stream",
          "name": "stderr",
          "text": [
            " 12%|█▎        | 1/8 [00:00<00:01,  4.39it/s]"
          ]
        },
        {
          "output_type": "stream",
          "name": "stdout",
          "text": [
            "Batch GT classes: [0, 1, 2, 3, 4, 5]\n",
            "Batch pred classes: [0, 1, 2, 3, 4, 5]\n"
          ]
        },
        {
          "output_type": "stream",
          "name": "stderr",
          "text": [
            "\r 25%|██▌       | 2/8 [00:00<00:01,  4.36it/s]"
          ]
        },
        {
          "output_type": "stream",
          "name": "stdout",
          "text": [
            "Batch GT classes: [0, 1, 2, 3, 4, 5]\n",
            "Batch pred classes: [0, 1, 2, 3, 4, 5]\n"
          ]
        },
        {
          "output_type": "stream",
          "name": "stderr",
          "text": [
            "\r 38%|███▊      | 3/8 [00:00<00:01,  4.34it/s]"
          ]
        },
        {
          "output_type": "stream",
          "name": "stdout",
          "text": [
            "Batch GT classes: [0, 1, 2, 3, 4, 5]\n",
            "Batch pred classes: [0, 1, 2, 3, 4, 5]\n"
          ]
        },
        {
          "output_type": "stream",
          "name": "stderr",
          "text": [
            "\r 50%|█████     | 4/8 [00:00<00:00,  4.31it/s]"
          ]
        },
        {
          "output_type": "stream",
          "name": "stdout",
          "text": [
            "Batch GT classes: [0, 1, 2, 3, 4, 5]\n",
            "Batch pred classes: [0, 1, 2, 3, 4, 5]\n"
          ]
        },
        {
          "output_type": "stream",
          "name": "stderr",
          "text": [
            "\r 62%|██████▎   | 5/8 [00:01<00:00,  4.33it/s]"
          ]
        },
        {
          "output_type": "stream",
          "name": "stdout",
          "text": [
            "Batch GT classes: [0, 1, 2, 3, 4, 5]\n",
            "Batch pred classes: [0, 1, 2, 3, 4, 5]\n"
          ]
        },
        {
          "output_type": "stream",
          "name": "stderr",
          "text": [
            "\r 75%|███████▌  | 6/8 [00:01<00:00,  4.29it/s]"
          ]
        },
        {
          "output_type": "stream",
          "name": "stdout",
          "text": [
            "Batch GT classes: [0, 1, 2, 3, 4, 5]\n",
            "Batch pred classes: [0, 1, 2, 3, 4, 5]\n"
          ]
        },
        {
          "output_type": "stream",
          "name": "stderr",
          "text": [
            "100%|██████████| 8/8 [00:01<00:00,  4.64it/s]"
          ]
        },
        {
          "output_type": "stream",
          "name": "stdout",
          "text": [
            "Batch GT classes: [0, 1, 2, 3, 4, 5]\n",
            "Batch pred classes: [0, 1, 2, 3, 4, 5]\n",
            "Batch GT classes: [0, 1, 2, 3, 5]\n",
            "Batch pred classes: [0, 1, 2, 3, 4, 5]\n",
            "Epoch 9/20, Train Loss: 0.9368\n"
          ]
        },
        {
          "output_type": "stream",
          "name": "stderr",
          "text": [
            "\n"
          ]
        },
        {
          "output_type": "stream",
          "name": "stdout",
          "text": [
            "Val GT classes: [0, 1, 2, 3, 4, 5]\n",
            "Val pred classes: [0, 1, 2, 3, 4, 5]\n",
            "Val GT classes: [0, 1, 3, 4, 5]\n",
            "Val pred classes: [0, 1, 2, 3, 4, 5]\n",
            "Validation Loss: 0.9668\n"
          ]
        },
        {
          "output_type": "stream",
          "name": "stderr",
          "text": [
            " 12%|█▎        | 1/8 [00:00<00:01,  4.26it/s]"
          ]
        },
        {
          "output_type": "stream",
          "name": "stdout",
          "text": [
            "Batch GT classes: [0, 1, 2, 3, 4, 5]\n",
            "Batch pred classes: [0, 1, 2, 3, 4, 5]\n"
          ]
        },
        {
          "output_type": "stream",
          "name": "stderr",
          "text": [
            "\r 25%|██▌       | 2/8 [00:00<00:01,  4.19it/s]"
          ]
        },
        {
          "output_type": "stream",
          "name": "stdout",
          "text": [
            "Batch GT classes: [0, 1, 2, 3, 4, 5]\n",
            "Batch pred classes: [0, 1, 2, 3, 4, 5]\n"
          ]
        },
        {
          "output_type": "stream",
          "name": "stderr",
          "text": [
            "\r 38%|███▊      | 3/8 [00:00<00:01,  4.25it/s]"
          ]
        },
        {
          "output_type": "stream",
          "name": "stdout",
          "text": [
            "Batch GT classes: [0, 1, 2, 3, 4, 5]\n",
            "Batch pred classes: [0, 1, 2, 3, 4, 5]\n"
          ]
        },
        {
          "output_type": "stream",
          "name": "stderr",
          "text": [
            "\r 50%|█████     | 4/8 [00:00<00:00,  4.29it/s]"
          ]
        },
        {
          "output_type": "stream",
          "name": "stdout",
          "text": [
            "Batch GT classes: [0, 1, 2, 3, 4, 5]\n",
            "Batch pred classes: [0, 1, 2, 3, 4, 5]\n"
          ]
        },
        {
          "output_type": "stream",
          "name": "stderr",
          "text": [
            "\r 62%|██████▎   | 5/8 [00:01<00:00,  4.30it/s]"
          ]
        },
        {
          "output_type": "stream",
          "name": "stdout",
          "text": [
            "Batch GT classes: [0, 1, 2, 3, 4, 5]\n",
            "Batch pred classes: [0, 1, 2, 3, 4, 5]\n"
          ]
        },
        {
          "output_type": "stream",
          "name": "stderr",
          "text": [
            "\r 75%|███████▌  | 6/8 [00:01<00:00,  4.29it/s]"
          ]
        },
        {
          "output_type": "stream",
          "name": "stdout",
          "text": [
            "Batch GT classes: [0, 1, 2, 3, 4, 5]\n",
            "Batch pred classes: [0, 1, 2, 3, 4, 5]\n"
          ]
        },
        {
          "output_type": "stream",
          "name": "stderr",
          "text": [
            "100%|██████████| 8/8 [00:01<00:00,  4.63it/s]"
          ]
        },
        {
          "output_type": "stream",
          "name": "stdout",
          "text": [
            "Batch GT classes: [0, 1, 2, 3, 4, 5]\n",
            "Batch pred classes: [0, 1, 2, 3, 4, 5]\n",
            "Batch GT classes: [0, 1, 2, 4, 5]\n",
            "Batch pred classes: [0, 1, 2, 3, 4, 5]\n",
            "Epoch 10/20, Train Loss: 0.9327\n"
          ]
        },
        {
          "output_type": "stream",
          "name": "stderr",
          "text": [
            "\n"
          ]
        },
        {
          "output_type": "stream",
          "name": "stdout",
          "text": [
            "Val GT classes: [0, 1, 2, 3, 4, 5]\n",
            "Val pred classes: [0, 1, 2, 3, 4, 5]\n",
            "Val GT classes: [0, 1, 3, 4, 5]\n",
            "Val pred classes: [0, 1, 2, 3, 4, 5]\n",
            "Validation Loss: 0.9548\n"
          ]
        },
        {
          "output_type": "stream",
          "name": "stderr",
          "text": [
            " 12%|█▎        | 1/8 [00:00<00:01,  4.37it/s]"
          ]
        },
        {
          "output_type": "stream",
          "name": "stdout",
          "text": [
            "Batch GT classes: [0, 1, 2, 3, 4, 5]\n",
            "Batch pred classes: [0, 1, 2, 3, 4, 5]\n"
          ]
        },
        {
          "output_type": "stream",
          "name": "stderr",
          "text": [
            "\r 25%|██▌       | 2/8 [00:00<00:01,  4.35it/s]"
          ]
        },
        {
          "output_type": "stream",
          "name": "stdout",
          "text": [
            "Batch GT classes: [0, 1, 2, 3, 4, 5]\n",
            "Batch pred classes: [0, 1, 2, 3, 4, 5]\n"
          ]
        },
        {
          "output_type": "stream",
          "name": "stderr",
          "text": [
            "\r 38%|███▊      | 3/8 [00:00<00:01,  4.35it/s]"
          ]
        },
        {
          "output_type": "stream",
          "name": "stdout",
          "text": [
            "Batch GT classes: [0, 1, 2, 3, 4, 5]\n",
            "Batch pred classes: [0, 1, 2, 3, 4, 5]\n"
          ]
        },
        {
          "output_type": "stream",
          "name": "stderr",
          "text": [
            "\r 50%|█████     | 4/8 [00:00<00:00,  4.35it/s]"
          ]
        },
        {
          "output_type": "stream",
          "name": "stdout",
          "text": [
            "Batch GT classes: [0, 1, 2, 3, 4, 5]\n",
            "Batch pred classes: [0, 1, 2, 3, 4, 5]\n"
          ]
        },
        {
          "output_type": "stream",
          "name": "stderr",
          "text": [
            "\r 62%|██████▎   | 5/8 [00:01<00:00,  4.34it/s]"
          ]
        },
        {
          "output_type": "stream",
          "name": "stdout",
          "text": [
            "Batch GT classes: [0, 1, 2, 3, 4, 5]\n",
            "Batch pred classes: [0, 1, 2, 3, 4, 5]\n"
          ]
        },
        {
          "output_type": "stream",
          "name": "stderr",
          "text": [
            "\r 75%|███████▌  | 6/8 [00:01<00:00,  4.29it/s]"
          ]
        },
        {
          "output_type": "stream",
          "name": "stdout",
          "text": [
            "Batch GT classes: [0, 1, 2, 3, 4, 5]\n",
            "Batch pred classes: [0, 1, 2, 3, 4, 5]\n"
          ]
        },
        {
          "output_type": "stream",
          "name": "stderr",
          "text": [
            "100%|██████████| 8/8 [00:01<00:00,  4.64it/s]"
          ]
        },
        {
          "output_type": "stream",
          "name": "stdout",
          "text": [
            "Batch GT classes: [0, 1, 2, 3, 4, 5]\n",
            "Batch pred classes: [0, 1, 2, 3, 4, 5]\n",
            "Batch GT classes: [0, 1, 2, 3, 4, 5]\n",
            "Batch pred classes: [0, 1, 2, 3, 4, 5]\n",
            "Epoch 11/20, Train Loss: 0.8226\n"
          ]
        },
        {
          "output_type": "stream",
          "name": "stderr",
          "text": [
            "\n"
          ]
        },
        {
          "output_type": "stream",
          "name": "stdout",
          "text": [
            "Val GT classes: [0, 1, 2, 3, 4, 5]\n",
            "Val pred classes: [0, 1, 2, 3, 4, 5]\n",
            "Val GT classes: [0, 1, 3, 4, 5]\n",
            "Val pred classes: [0, 1, 2, 3, 4, 5]\n",
            "Validation Loss: 0.9724\n"
          ]
        },
        {
          "output_type": "stream",
          "name": "stderr",
          "text": [
            " 12%|█▎        | 1/8 [00:00<00:01,  4.27it/s]"
          ]
        },
        {
          "output_type": "stream",
          "name": "stdout",
          "text": [
            "Batch GT classes: [0, 1, 2, 3, 4, 5]\n",
            "Batch pred classes: [0, 1, 2, 3, 4, 5]\n"
          ]
        },
        {
          "output_type": "stream",
          "name": "stderr",
          "text": [
            "\r 25%|██▌       | 2/8 [00:00<00:01,  4.37it/s]"
          ]
        },
        {
          "output_type": "stream",
          "name": "stdout",
          "text": [
            "Batch GT classes: [0, 1, 2, 3, 4, 5]\n",
            "Batch pred classes: [0, 1, 2, 3, 4, 5]\n"
          ]
        },
        {
          "output_type": "stream",
          "name": "stderr",
          "text": [
            "\r 38%|███▊      | 3/8 [00:00<00:01,  4.25it/s]"
          ]
        },
        {
          "output_type": "stream",
          "name": "stdout",
          "text": [
            "Batch GT classes: [0, 1, 2, 3, 4, 5]\n",
            "Batch pred classes: [0, 1, 2, 3, 4, 5]\n"
          ]
        },
        {
          "output_type": "stream",
          "name": "stderr",
          "text": [
            "\r 50%|█████     | 4/8 [00:00<00:00,  4.30it/s]"
          ]
        },
        {
          "output_type": "stream",
          "name": "stdout",
          "text": [
            "Batch GT classes: [0, 1, 2, 3, 4, 5]\n",
            "Batch pred classes: [0, 1, 2, 3, 4, 5]\n"
          ]
        },
        {
          "output_type": "stream",
          "name": "stderr",
          "text": [
            "\r 62%|██████▎   | 5/8 [00:01<00:00,  4.29it/s]"
          ]
        },
        {
          "output_type": "stream",
          "name": "stdout",
          "text": [
            "Batch GT classes: [0, 1, 2, 3, 4, 5]\n",
            "Batch pred classes: [0, 1, 2, 3, 4, 5]\n"
          ]
        },
        {
          "output_type": "stream",
          "name": "stderr",
          "text": [
            "\r 75%|███████▌  | 6/8 [00:01<00:00,  4.30it/s]"
          ]
        },
        {
          "output_type": "stream",
          "name": "stdout",
          "text": [
            "Batch GT classes: [0, 1, 2, 3, 4, 5]\n",
            "Batch pred classes: [0, 1, 2, 3, 4, 5]\n"
          ]
        },
        {
          "output_type": "stream",
          "name": "stderr",
          "text": [
            "100%|██████████| 8/8 [00:01<00:00,  4.61it/s]"
          ]
        },
        {
          "output_type": "stream",
          "name": "stdout",
          "text": [
            "Batch GT classes: [0, 1, 2, 3, 4, 5]\n",
            "Batch pred classes: [0, 1, 2, 3, 4, 5]\n",
            "Batch GT classes: [0, 1, 3, 4, 5]\n",
            "Batch pred classes: [0, 1, 2, 3, 4, 5]\n",
            "Epoch 12/20, Train Loss: 0.7560\n"
          ]
        },
        {
          "output_type": "stream",
          "name": "stderr",
          "text": [
            "\n"
          ]
        },
        {
          "output_type": "stream",
          "name": "stdout",
          "text": [
            "Val GT classes: [0, 1, 2, 3, 4, 5]\n",
            "Val pred classes: [0, 1, 2, 3, 4, 5]\n",
            "Val GT classes: [0, 1, 3, 4, 5]\n",
            "Val pred classes: [0, 1, 2, 3, 4, 5]\n",
            "Validation Loss: 0.8733\n"
          ]
        },
        {
          "output_type": "stream",
          "name": "stderr",
          "text": [
            " 12%|█▎        | 1/8 [00:00<00:01,  4.45it/s]"
          ]
        },
        {
          "output_type": "stream",
          "name": "stdout",
          "text": [
            "Batch GT classes: [0, 1, 2, 3, 4, 5]\n",
            "Batch pred classes: [0, 1, 2, 3, 4, 5]\n"
          ]
        },
        {
          "output_type": "stream",
          "name": "stderr",
          "text": [
            "\r 25%|██▌       | 2/8 [00:00<00:01,  3.80it/s]"
          ]
        },
        {
          "output_type": "stream",
          "name": "stdout",
          "text": [
            "Batch GT classes: [0, 1, 2, 3, 4, 5]\n",
            "Batch pred classes: [0, 1, 2, 3, 4, 5]\n"
          ]
        },
        {
          "output_type": "stream",
          "name": "stderr",
          "text": [
            "\r 38%|███▊      | 3/8 [00:00<00:01,  3.57it/s]"
          ]
        },
        {
          "output_type": "stream",
          "name": "stdout",
          "text": [
            "Batch GT classes: [0, 1, 2, 3, 4, 5]\n",
            "Batch pred classes: [0, 1, 2, 3, 4, 5]\n"
          ]
        },
        {
          "output_type": "stream",
          "name": "stderr",
          "text": [
            "\r 50%|█████     | 4/8 [00:01<00:01,  3.50it/s]"
          ]
        },
        {
          "output_type": "stream",
          "name": "stdout",
          "text": [
            "Batch GT classes: [0, 1, 2, 3, 4, 5]\n",
            "Batch pred classes: [0, 1, 2, 3, 4, 5]\n"
          ]
        },
        {
          "output_type": "stream",
          "name": "stderr",
          "text": [
            "\r 62%|██████▎   | 5/8 [00:01<00:00,  3.45it/s]"
          ]
        },
        {
          "output_type": "stream",
          "name": "stdout",
          "text": [
            "Batch GT classes: [0, 1, 2, 3, 4, 5]\n",
            "Batch pred classes: [0, 1, 2, 3, 4, 5]\n"
          ]
        },
        {
          "output_type": "stream",
          "name": "stderr",
          "text": [
            "\r 75%|███████▌  | 6/8 [00:01<00:00,  3.38it/s]"
          ]
        },
        {
          "output_type": "stream",
          "name": "stdout",
          "text": [
            "Batch GT classes: [0, 1, 2, 3, 4, 5]\n",
            "Batch pred classes: [0, 1, 2, 3, 4, 5]\n"
          ]
        },
        {
          "output_type": "stream",
          "name": "stderr",
          "text": [
            "100%|██████████| 8/8 [00:02<00:00,  3.73it/s]"
          ]
        },
        {
          "output_type": "stream",
          "name": "stdout",
          "text": [
            "Batch GT classes: [0, 1, 2, 3, 4, 5]\n",
            "Batch pred classes: [0, 1, 2, 3, 4, 5]\n",
            "Batch GT classes: [0, 1, 3, 4, 5]\n",
            "Batch pred classes: [0, 1, 2, 3, 4, 5]\n",
            "Epoch 13/20, Train Loss: 0.7424\n"
          ]
        },
        {
          "output_type": "stream",
          "name": "stderr",
          "text": [
            "\n"
          ]
        },
        {
          "output_type": "stream",
          "name": "stdout",
          "text": [
            "Val GT classes: [0, 1, 2, 3, 4, 5]\n",
            "Val pred classes: [0, 1, 2, 3, 4, 5]\n",
            "Val GT classes: [0, 1, 3, 4, 5]\n",
            "Val pred classes: [0, 1, 2, 3, 4, 5]\n",
            "Validation Loss: 0.8386\n"
          ]
        },
        {
          "output_type": "stream",
          "name": "stderr",
          "text": [
            " 12%|█▎        | 1/8 [00:00<00:01,  4.25it/s]"
          ]
        },
        {
          "output_type": "stream",
          "name": "stdout",
          "text": [
            "Batch GT classes: [0, 1, 2, 3, 4, 5]\n",
            "Batch pred classes: [0, 1, 2, 3, 4, 5]\n"
          ]
        },
        {
          "output_type": "stream",
          "name": "stderr",
          "text": [
            "\r 25%|██▌       | 2/8 [00:00<00:01,  4.20it/s]"
          ]
        },
        {
          "output_type": "stream",
          "name": "stdout",
          "text": [
            "Batch GT classes: [0, 1, 3, 4, 5]\n",
            "Batch pred classes: [0, 1, 2, 3, 4, 5]\n"
          ]
        },
        {
          "output_type": "stream",
          "name": "stderr",
          "text": [
            "\r 38%|███▊      | 3/8 [00:00<00:01,  4.23it/s]"
          ]
        },
        {
          "output_type": "stream",
          "name": "stdout",
          "text": [
            "Batch GT classes: [0, 1, 2, 3, 4, 5]\n",
            "Batch pred classes: [0, 1, 2, 3, 4, 5]\n"
          ]
        },
        {
          "output_type": "stream",
          "name": "stderr",
          "text": [
            "\r 50%|█████     | 4/8 [00:00<00:00,  4.28it/s]"
          ]
        },
        {
          "output_type": "stream",
          "name": "stdout",
          "text": [
            "Batch GT classes: [0, 1, 2, 3, 4, 5]\n",
            "Batch pred classes: [0, 1, 2, 3, 4, 5]\n"
          ]
        },
        {
          "output_type": "stream",
          "name": "stderr",
          "text": [
            "\r 62%|██████▎   | 5/8 [00:01<00:00,  4.29it/s]"
          ]
        },
        {
          "output_type": "stream",
          "name": "stdout",
          "text": [
            "Batch GT classes: [0, 1, 2, 3, 4, 5]\n",
            "Batch pred classes: [0, 1, 2, 3, 4, 5]\n"
          ]
        },
        {
          "output_type": "stream",
          "name": "stderr",
          "text": [
            "\r 75%|███████▌  | 6/8 [00:01<00:00,  4.28it/s]"
          ]
        },
        {
          "output_type": "stream",
          "name": "stdout",
          "text": [
            "Batch GT classes: [0, 1, 2, 3, 4, 5]\n",
            "Batch pred classes: [0, 1, 2, 3, 4, 5]\n"
          ]
        },
        {
          "output_type": "stream",
          "name": "stderr",
          "text": [
            "100%|██████████| 8/8 [00:01<00:00,  4.59it/s]"
          ]
        },
        {
          "output_type": "stream",
          "name": "stdout",
          "text": [
            "Batch GT classes: [0, 1, 2, 3, 4, 5]\n",
            "Batch pred classes: [0, 1, 2, 3, 4, 5]\n",
            "Batch GT classes: [0, 1, 2, 3, 4, 5]\n",
            "Batch pred classes: [0, 1, 2, 3, 4, 5]\n",
            "Epoch 14/20, Train Loss: 0.6796\n"
          ]
        },
        {
          "output_type": "stream",
          "name": "stderr",
          "text": [
            "\n"
          ]
        },
        {
          "output_type": "stream",
          "name": "stdout",
          "text": [
            "Val GT classes: [0, 1, 2, 3, 4, 5]\n",
            "Val pred classes: [0, 1, 2, 3, 4, 5]\n",
            "Val GT classes: [0, 1, 3, 4, 5]\n",
            "Val pred classes: [0, 1, 2, 3, 4, 5]\n",
            "Validation Loss: 0.8262\n"
          ]
        },
        {
          "output_type": "stream",
          "name": "stderr",
          "text": [
            " 12%|█▎        | 1/8 [00:00<00:01,  4.21it/s]"
          ]
        },
        {
          "output_type": "stream",
          "name": "stdout",
          "text": [
            "Batch GT classes: [0, 1, 2, 3, 4, 5]\n",
            "Batch pred classes: [0, 1, 2, 3, 4, 5]\n"
          ]
        },
        {
          "output_type": "stream",
          "name": "stderr",
          "text": [
            "\r 25%|██▌       | 2/8 [00:00<00:01,  4.23it/s]"
          ]
        },
        {
          "output_type": "stream",
          "name": "stdout",
          "text": [
            "Batch GT classes: [0, 1, 2, 3, 4, 5]\n",
            "Batch pred classes: [0, 1, 2, 3, 4, 5]\n"
          ]
        },
        {
          "output_type": "stream",
          "name": "stderr",
          "text": [
            "\r 38%|███▊      | 3/8 [00:00<00:01,  4.26it/s]"
          ]
        },
        {
          "output_type": "stream",
          "name": "stdout",
          "text": [
            "Batch GT classes: [0, 1, 2, 3, 4, 5]\n",
            "Batch pred classes: [0, 1, 2, 3, 4, 5]\n"
          ]
        },
        {
          "output_type": "stream",
          "name": "stderr",
          "text": [
            "\r 50%|█████     | 4/8 [00:00<00:00,  4.27it/s]"
          ]
        },
        {
          "output_type": "stream",
          "name": "stdout",
          "text": [
            "Batch GT classes: [0, 1, 2, 3, 4, 5]\n",
            "Batch pred classes: [0, 1, 2, 3, 4, 5]\n"
          ]
        },
        {
          "output_type": "stream",
          "name": "stderr",
          "text": [
            "\r 62%|██████▎   | 5/8 [00:01<00:00,  4.29it/s]"
          ]
        },
        {
          "output_type": "stream",
          "name": "stdout",
          "text": [
            "Batch GT classes: [0, 1, 2, 3, 4, 5]\n",
            "Batch pred classes: [0, 1, 2, 3, 4, 5]\n"
          ]
        },
        {
          "output_type": "stream",
          "name": "stderr",
          "text": [
            "\r 75%|███████▌  | 6/8 [00:01<00:00,  4.32it/s]"
          ]
        },
        {
          "output_type": "stream",
          "name": "stdout",
          "text": [
            "Batch GT classes: [0, 1, 2, 3, 4, 5]\n",
            "Batch pred classes: [0, 1, 2, 3, 4, 5]\n"
          ]
        },
        {
          "output_type": "stream",
          "name": "stderr",
          "text": [
            "100%|██████████| 8/8 [00:01<00:00,  4.60it/s]"
          ]
        },
        {
          "output_type": "stream",
          "name": "stdout",
          "text": [
            "Batch GT classes: [0, 1, 2, 3, 4, 5]\n",
            "Batch pred classes: [0, 1, 2, 3, 4, 5]\n",
            "Batch GT classes: [0, 1, 2, 3, 4, 5]\n",
            "Batch pred classes: [0, 1, 2, 3, 4, 5]\n",
            "Epoch 15/20, Train Loss: 0.6193\n"
          ]
        },
        {
          "output_type": "stream",
          "name": "stderr",
          "text": [
            "\n"
          ]
        },
        {
          "output_type": "stream",
          "name": "stdout",
          "text": [
            "Val GT classes: [0, 1, 2, 3, 4, 5]\n",
            "Val pred classes: [0, 1, 2, 3, 4, 5]\n",
            "Val GT classes: [0, 1, 3, 4, 5]\n",
            "Val pred classes: [0, 1, 2, 3, 4, 5]\n",
            "Validation Loss: 0.8273\n"
          ]
        },
        {
          "output_type": "stream",
          "name": "stderr",
          "text": [
            " 12%|█▎        | 1/8 [00:00<00:01,  4.34it/s]"
          ]
        },
        {
          "output_type": "stream",
          "name": "stdout",
          "text": [
            "Batch GT classes: [0, 1, 2, 3, 4, 5]\n",
            "Batch pred classes: [0, 1, 2, 3, 4, 5]\n"
          ]
        },
        {
          "output_type": "stream",
          "name": "stderr",
          "text": [
            "\r 25%|██▌       | 2/8 [00:00<00:01,  4.31it/s]"
          ]
        },
        {
          "output_type": "stream",
          "name": "stdout",
          "text": [
            "Batch GT classes: [0, 1, 2, 3, 4, 5]\n",
            "Batch pred classes: [0, 1, 2, 3, 4, 5]\n"
          ]
        },
        {
          "output_type": "stream",
          "name": "stderr",
          "text": [
            "\r 38%|███▊      | 3/8 [00:00<00:01,  4.26it/s]"
          ]
        },
        {
          "output_type": "stream",
          "name": "stdout",
          "text": [
            "Batch GT classes: [0, 1, 2, 3, 4, 5]\n",
            "Batch pred classes: [0, 1, 2, 3, 4, 5]\n"
          ]
        },
        {
          "output_type": "stream",
          "name": "stderr",
          "text": [
            "\r 50%|█████     | 4/8 [00:00<00:00,  4.28it/s]"
          ]
        },
        {
          "output_type": "stream",
          "name": "stdout",
          "text": [
            "Batch GT classes: [0, 1, 2, 3, 4, 5]\n",
            "Batch pred classes: [0, 1, 2, 3, 4, 5]\n"
          ]
        },
        {
          "output_type": "stream",
          "name": "stderr",
          "text": [
            "\r 62%|██████▎   | 5/8 [00:01<00:00,  4.28it/s]"
          ]
        },
        {
          "output_type": "stream",
          "name": "stdout",
          "text": [
            "Batch GT classes: [0, 1, 2, 3, 4, 5]\n",
            "Batch pred classes: [0, 1, 2, 3, 4, 5]\n"
          ]
        },
        {
          "output_type": "stream",
          "name": "stderr",
          "text": [
            "\r 75%|███████▌  | 6/8 [00:01<00:00,  4.26it/s]"
          ]
        },
        {
          "output_type": "stream",
          "name": "stdout",
          "text": [
            "Batch GT classes: [0, 1, 2, 3, 4, 5]\n",
            "Batch pred classes: [0, 1, 2, 3, 4, 5]\n"
          ]
        },
        {
          "output_type": "stream",
          "name": "stderr",
          "text": [
            "100%|██████████| 8/8 [00:01<00:00,  4.62it/s]"
          ]
        },
        {
          "output_type": "stream",
          "name": "stdout",
          "text": [
            "Batch GT classes: [0, 1, 2, 3, 4, 5]\n",
            "Batch pred classes: [0, 1, 2, 3, 4, 5]\n",
            "Batch GT classes: [0, 1, 3, 4, 5]\n",
            "Batch pred classes: [0, 1, 2, 3, 4, 5]\n",
            "Epoch 16/20, Train Loss: 0.5906\n"
          ]
        },
        {
          "output_type": "stream",
          "name": "stderr",
          "text": [
            "\n"
          ]
        },
        {
          "output_type": "stream",
          "name": "stdout",
          "text": [
            "Val GT classes: [0, 1, 2, 3, 4, 5]\n",
            "Val pred classes: [0, 1, 2, 3, 4, 5]\n",
            "Val GT classes: [0, 1, 3, 4, 5]\n",
            "Val pred classes: [0, 1, 2, 3, 4, 5]\n",
            "Validation Loss: 0.8194\n"
          ]
        },
        {
          "output_type": "stream",
          "name": "stderr",
          "text": [
            " 12%|█▎        | 1/8 [00:00<00:01,  4.34it/s]"
          ]
        },
        {
          "output_type": "stream",
          "name": "stdout",
          "text": [
            "Batch GT classes: [0, 1, 2, 3, 4, 5]\n",
            "Batch pred classes: [0, 1, 2, 3, 4, 5]\n"
          ]
        },
        {
          "output_type": "stream",
          "name": "stderr",
          "text": [
            "\r 25%|██▌       | 2/8 [00:00<00:01,  4.23it/s]"
          ]
        },
        {
          "output_type": "stream",
          "name": "stdout",
          "text": [
            "Batch GT classes: [0, 1, 2, 3, 4, 5]\n",
            "Batch pred classes: [0, 1, 2, 3, 4, 5]\n"
          ]
        },
        {
          "output_type": "stream",
          "name": "stderr",
          "text": [
            "\r 38%|███▊      | 3/8 [00:00<00:01,  4.30it/s]"
          ]
        },
        {
          "output_type": "stream",
          "name": "stdout",
          "text": [
            "Batch GT classes: [0, 1, 2, 3, 4, 5]\n",
            "Batch pred classes: [0, 1, 2, 3, 4, 5]\n"
          ]
        },
        {
          "output_type": "stream",
          "name": "stderr",
          "text": [
            "\r 50%|█████     | 4/8 [00:00<00:00,  4.31it/s]"
          ]
        },
        {
          "output_type": "stream",
          "name": "stdout",
          "text": [
            "Batch GT classes: [0, 1, 2, 3, 4, 5]\n",
            "Batch pred classes: [0, 1, 2, 3, 4, 5]\n"
          ]
        },
        {
          "output_type": "stream",
          "name": "stderr",
          "text": [
            "\r 62%|██████▎   | 5/8 [00:01<00:00,  4.29it/s]"
          ]
        },
        {
          "output_type": "stream",
          "name": "stdout",
          "text": [
            "Batch GT classes: [0, 1, 2, 3, 4, 5]\n",
            "Batch pred classes: [0, 1, 2, 3, 4, 5]\n"
          ]
        },
        {
          "output_type": "stream",
          "name": "stderr",
          "text": [
            "\r 75%|███████▌  | 6/8 [00:01<00:00,  4.31it/s]"
          ]
        },
        {
          "output_type": "stream",
          "name": "stdout",
          "text": [
            "Batch GT classes: [0, 1, 2, 3, 4, 5]\n",
            "Batch pred classes: [0, 1, 2, 3, 4, 5]\n"
          ]
        },
        {
          "output_type": "stream",
          "name": "stderr",
          "text": [
            "100%|██████████| 8/8 [00:01<00:00,  4.63it/s]"
          ]
        },
        {
          "output_type": "stream",
          "name": "stdout",
          "text": [
            "Batch GT classes: [0, 1, 2, 3, 4, 5]\n",
            "Batch pred classes: [0, 1, 2, 3, 4, 5]\n",
            "Batch GT classes: [0, 1, 2, 3, 5]\n",
            "Batch pred classes: [0, 1, 2, 3, 4, 5]\n",
            "Epoch 17/20, Train Loss: 0.5742\n"
          ]
        },
        {
          "output_type": "stream",
          "name": "stderr",
          "text": [
            "\n"
          ]
        },
        {
          "output_type": "stream",
          "name": "stdout",
          "text": [
            "Val GT classes: [0, 1, 2, 3, 4, 5]\n",
            "Val pred classes: [0, 1, 2, 3, 4, 5]\n",
            "Val GT classes: [0, 1, 3, 4, 5]\n",
            "Val pred classes: [0, 1, 2, 3, 4, 5]\n",
            "Validation Loss: 0.7803\n"
          ]
        },
        {
          "output_type": "stream",
          "name": "stderr",
          "text": [
            " 12%|█▎        | 1/8 [00:00<00:01,  4.30it/s]"
          ]
        },
        {
          "output_type": "stream",
          "name": "stdout",
          "text": [
            "Batch GT classes: [0, 1, 2, 3, 4, 5]\n",
            "Batch pred classes: [0, 1, 2, 3, 4, 5]\n"
          ]
        },
        {
          "output_type": "stream",
          "name": "stderr",
          "text": [
            "\r 25%|██▌       | 2/8 [00:00<00:01,  4.23it/s]"
          ]
        },
        {
          "output_type": "stream",
          "name": "stdout",
          "text": [
            "Batch GT classes: [0, 1, 2, 3, 4, 5]\n",
            "Batch pred classes: [0, 1, 2, 3, 4, 5]\n"
          ]
        },
        {
          "output_type": "stream",
          "name": "stderr",
          "text": [
            "\r 38%|███▊      | 3/8 [00:00<00:01,  4.27it/s]"
          ]
        },
        {
          "output_type": "stream",
          "name": "stdout",
          "text": [
            "Batch GT classes: [0, 1, 2, 3, 4, 5]\n",
            "Batch pred classes: [0, 1, 2, 3, 4, 5]\n"
          ]
        },
        {
          "output_type": "stream",
          "name": "stderr",
          "text": [
            "\r 50%|█████     | 4/8 [00:00<00:00,  4.22it/s]"
          ]
        },
        {
          "output_type": "stream",
          "name": "stdout",
          "text": [
            "Batch GT classes: [0, 1, 2, 3, 4, 5]\n",
            "Batch pred classes: [0, 1, 2, 3, 4, 5]\n"
          ]
        },
        {
          "output_type": "stream",
          "name": "stderr",
          "text": [
            "\r 62%|██████▎   | 5/8 [00:01<00:00,  4.26it/s]"
          ]
        },
        {
          "output_type": "stream",
          "name": "stdout",
          "text": [
            "Batch GT classes: [0, 1, 2, 3, 4, 5]\n",
            "Batch pred classes: [0, 1, 2, 3, 4, 5]\n"
          ]
        },
        {
          "output_type": "stream",
          "name": "stderr",
          "text": [
            "\r 75%|███████▌  | 6/8 [00:01<00:00,  4.24it/s]"
          ]
        },
        {
          "output_type": "stream",
          "name": "stdout",
          "text": [
            "Batch GT classes: [0, 1, 2, 3, 4, 5]\n",
            "Batch pred classes: [0, 1, 2, 3, 4, 5]\n"
          ]
        },
        {
          "output_type": "stream",
          "name": "stderr",
          "text": [
            "100%|██████████| 8/8 [00:01<00:00,  4.60it/s]"
          ]
        },
        {
          "output_type": "stream",
          "name": "stdout",
          "text": [
            "Batch GT classes: [0, 1, 2, 3, 4, 5]\n",
            "Batch pred classes: [0, 1, 2, 3, 4, 5]\n",
            "Batch GT classes: [0, 1, 2, 3, 4, 5]\n",
            "Batch pred classes: [0, 1, 2, 3, 4, 5]\n",
            "Epoch 18/20, Train Loss: 0.6031\n"
          ]
        },
        {
          "output_type": "stream",
          "name": "stderr",
          "text": [
            "\n"
          ]
        },
        {
          "output_type": "stream",
          "name": "stdout",
          "text": [
            "Val GT classes: [0, 1, 2, 3, 4, 5]\n",
            "Val pred classes: [0, 1, 2, 3, 4, 5]\n",
            "Val GT classes: [0, 1, 3, 4, 5]\n",
            "Val pred classes: [0, 1, 2, 3, 4, 5]\n",
            "Validation Loss: 0.8235\n"
          ]
        },
        {
          "output_type": "stream",
          "name": "stderr",
          "text": [
            " 12%|█▎        | 1/8 [00:00<00:01,  4.33it/s]"
          ]
        },
        {
          "output_type": "stream",
          "name": "stdout",
          "text": [
            "Batch GT classes: [0, 1, 2, 3, 4, 5]\n",
            "Batch pred classes: [0, 1, 2, 3, 4, 5]\n"
          ]
        },
        {
          "output_type": "stream",
          "name": "stderr",
          "text": [
            "\r 25%|██▌       | 2/8 [00:00<00:01,  3.68it/s]"
          ]
        },
        {
          "output_type": "stream",
          "name": "stdout",
          "text": [
            "Batch GT classes: [0, 1, 2, 3, 4, 5]\n",
            "Batch pred classes: [0, 1, 2, 3, 4, 5]\n"
          ]
        },
        {
          "output_type": "stream",
          "name": "stderr",
          "text": [
            "\r 38%|███▊      | 3/8 [00:00<00:01,  3.55it/s]"
          ]
        },
        {
          "output_type": "stream",
          "name": "stdout",
          "text": [
            "Batch GT classes: [0, 1, 2, 3, 4, 5]\n",
            "Batch pred classes: [0, 1, 2, 3, 4, 5]\n"
          ]
        },
        {
          "output_type": "stream",
          "name": "stderr",
          "text": [
            "\r 50%|█████     | 4/8 [00:01<00:01,  3.44it/s]"
          ]
        },
        {
          "output_type": "stream",
          "name": "stdout",
          "text": [
            "Batch GT classes: [0, 1, 2, 3, 4, 5]\n",
            "Batch pred classes: [0, 1, 2, 3, 4, 5]\n"
          ]
        },
        {
          "output_type": "stream",
          "name": "stderr",
          "text": [
            "\r 62%|██████▎   | 5/8 [00:01<00:00,  3.36it/s]"
          ]
        },
        {
          "output_type": "stream",
          "name": "stdout",
          "text": [
            "Batch GT classes: [0, 1, 2, 3, 4, 5]\n",
            "Batch pred classes: [0, 1, 2, 3, 4, 5]\n"
          ]
        },
        {
          "output_type": "stream",
          "name": "stderr",
          "text": [
            "\r 75%|███████▌  | 6/8 [00:01<00:00,  3.39it/s]"
          ]
        },
        {
          "output_type": "stream",
          "name": "stdout",
          "text": [
            "Batch GT classes: [0, 1, 2, 3, 4, 5]\n",
            "Batch pred classes: [0, 1, 2, 3, 4, 5]\n"
          ]
        },
        {
          "output_type": "stream",
          "name": "stderr",
          "text": [
            "100%|██████████| 8/8 [00:02<00:00,  3.72it/s]"
          ]
        },
        {
          "output_type": "stream",
          "name": "stdout",
          "text": [
            "Batch GT classes: [0, 1, 2, 3, 4, 5]\n",
            "Batch pred classes: [0, 1, 2, 3, 4, 5]\n",
            "Batch GT classes: [0, 1, 2, 3, 4, 5]\n",
            "Batch pred classes: [0, 1, 2, 3, 4, 5]\n",
            "Epoch 19/20, Train Loss: 0.5529\n"
          ]
        },
        {
          "output_type": "stream",
          "name": "stderr",
          "text": [
            "\n"
          ]
        },
        {
          "output_type": "stream",
          "name": "stdout",
          "text": [
            "Val GT classes: [0, 1, 2, 3, 4, 5]\n",
            "Val pred classes: [0, 1, 2, 3, 4, 5]\n",
            "Val GT classes: [0, 1, 3, 4, 5]\n",
            "Val pred classes: [0, 1, 2, 3, 4, 5]\n",
            "Validation Loss: 0.8386\n"
          ]
        },
        {
          "output_type": "stream",
          "name": "stderr",
          "text": [
            " 12%|█▎        | 1/8 [00:00<00:01,  4.40it/s]"
          ]
        },
        {
          "output_type": "stream",
          "name": "stdout",
          "text": [
            "Batch GT classes: [0, 1, 2, 3, 4, 5]\n",
            "Batch pred classes: [0, 1, 2, 3, 4, 5]\n"
          ]
        },
        {
          "output_type": "stream",
          "name": "stderr",
          "text": [
            "\r 25%|██▌       | 2/8 [00:00<00:01,  4.26it/s]"
          ]
        },
        {
          "output_type": "stream",
          "name": "stdout",
          "text": [
            "Batch GT classes: [0, 1, 2, 3, 4, 5]\n",
            "Batch pred classes: [0, 1, 2, 3, 4, 5]\n"
          ]
        },
        {
          "output_type": "stream",
          "name": "stderr",
          "text": [
            "\r 38%|███▊      | 3/8 [00:00<00:01,  4.31it/s]"
          ]
        },
        {
          "output_type": "stream",
          "name": "stdout",
          "text": [
            "Batch GT classes: [0, 1, 2, 3, 4, 5]\n",
            "Batch pred classes: [0, 1, 2, 3, 4, 5]\n"
          ]
        },
        {
          "output_type": "stream",
          "name": "stderr",
          "text": [
            "\r 50%|█████     | 4/8 [00:00<00:00,  4.32it/s]"
          ]
        },
        {
          "output_type": "stream",
          "name": "stdout",
          "text": [
            "Batch GT classes: [0, 1, 2, 3, 4, 5]\n",
            "Batch pred classes: [0, 1, 2, 3, 4, 5]\n"
          ]
        },
        {
          "output_type": "stream",
          "name": "stderr",
          "text": [
            "\r 62%|██████▎   | 5/8 [00:01<00:00,  4.30it/s]"
          ]
        },
        {
          "output_type": "stream",
          "name": "stdout",
          "text": [
            "Batch GT classes: [0, 1, 2, 3, 4, 5]\n",
            "Batch pred classes: [0, 1, 2, 3, 4, 5]\n"
          ]
        },
        {
          "output_type": "stream",
          "name": "stderr",
          "text": [
            "\r 75%|███████▌  | 6/8 [00:01<00:00,  4.31it/s]"
          ]
        },
        {
          "output_type": "stream",
          "name": "stdout",
          "text": [
            "Batch GT classes: [0, 1, 2, 3, 4, 5]\n",
            "Batch pred classes: [0, 1, 2, 3, 4, 5]\n"
          ]
        },
        {
          "output_type": "stream",
          "name": "stderr",
          "text": [
            "100%|██████████| 8/8 [00:01<00:00,  4.61it/s]"
          ]
        },
        {
          "output_type": "stream",
          "name": "stdout",
          "text": [
            "Batch GT classes: [0, 1, 2, 3, 4, 5]\n",
            "Batch pred classes: [0, 1, 2, 3, 4, 5]\n",
            "Batch GT classes: [0, 1, 2, 3, 5]\n",
            "Batch pred classes: [0, 1, 2, 3, 4, 5]\n",
            "Epoch 20/20, Train Loss: 0.5658\n"
          ]
        },
        {
          "output_type": "stream",
          "name": "stderr",
          "text": [
            "\n"
          ]
        },
        {
          "output_type": "stream",
          "name": "stdout",
          "text": [
            "Val GT classes: [0, 1, 2, 3, 4, 5]\n",
            "Val pred classes: [0, 1, 2, 3, 4, 5]\n",
            "Val GT classes: [0, 1, 3, 4, 5]\n",
            "Val pred classes: [0, 1, 2, 3, 4, 5]\n",
            "Validation Loss: 0.8327\n"
          ]
        }
      ]
    },
    {
      "cell_type": "code",
      "source": [
        "def show_multiclass_mask(model, img_path, device, num_classes):\n",
        "    import torchvision.transforms as T\n",
        "    model.eval()\n",
        "    img = Image.open(img_path).convert('RGB').resize((256, 256))\n",
        "    img_tensor = T.ToTensor()(img).unsqueeze(0).to(device)\n",
        "    with torch.no_grad():\n",
        "        out = model(img_tensor)\n",
        "        pred = out.argmax(dim=1)[0].cpu().numpy()\n",
        "    plt.subplot(1, 2, 1)\n",
        "    plt.imshow(img)\n",
        "    plt.title(\"Original\")\n",
        "    plt.axis('off')\n",
        "    plt.subplot(1, 2, 2)\n",
        "    plt.imshow(pred, cmap='tab10', vmin=0, vmax=num_classes-1)\n",
        "    plt.colorbar(ticks=range(num_classes))\n",
        "    plt.title(\"Predicted Mask\")\n",
        "    plt.axis('off')\n",
        "    plt.tight_layout()\n",
        "    plt.show()\n",
        "show_multiclass_mask(model, 'Vehicle_Damage/test/28.jpg', device, num_classes)"
      ],
      "metadata": {
        "colab": {
          "base_uri": "https://localhost:8080/",
          "height": 486
        },
        "id": "zjWXiC0jGFHA",
        "outputId": "83cdcb5e-c5f3-4431-9022-aed4328a546b"
      },
      "execution_count": 11,
      "outputs": [
        {
          "output_type": "display_data",
          "data": {
            "text/plain": [
              "<Figure size 640x480 with 3 Axes>"
            ],
            "image/png": "[encoded data removed]"
          },
          "metadata": {}
        }
      ]
    },
    {
      "cell_type": "markdown",
      "source": [
        "###Mask Generation from COCO"
      ],
      "metadata": {
        "id": "ZgnDUGnaxRIs"
      }
    },
    {
      "cell_type": "code",
      "source": [
        "def create_binary_masks_from_coco(coco_json, mask_folder):\n",
        "    with open(coco_json, 'r') as f:\n",
        "        coco = json.load(f)\n",
        "    imgid_to_info = {img['id']: img for img in coco['images']}\n",
        "    perimg_segments = defaultdict(list)\n",
        "    for ann in coco['annotations']:\n",
        "        perimg_segments[ann['image_id']].append(ann)\n",
        "    os.makedirs(mask_folder, exist_ok=True)\n",
        "    for img_id, info in imgid_to_info.items():\n",
        "        height, width = info['height'], info['width']\n",
        "        mask = np.zeros((height, width), dtype=np.uint8)\n",
        "        anns = perimg_segments.get(img_id, [])\n",
        "        for ann in anns:\n",
        "            if 'segmentation' in ann:\n",
        "                for seg in ann['segmentation']:\n",
        "                    coords = np.array(seg).reshape((-1, 2)).astype(np.int32)\n",
        "                    cv2.fillPoly(mask, [coords], color=1)\n",
        "        mask_name = info['file_name'].replace('.jpg', '_mask.png')\n",
        "        Image.fromarray(mask * 255).save(os.path.join(mask_folder, mask_name))"
      ],
      "metadata": {
        "id": "y9gQE_3ixMRJ"
      },
      "execution_count": 12,
      "outputs": []
    },
    {
      "cell_type": "markdown",
      "source": [
        "Generate mask"
      ],
      "metadata": {
        "id": "IQDTCPvaxuDG"
      }
    },
    {
      "cell_type": "code",
      "source": [
        "create_binary_masks_from_coco(\n",
        "    coco_json='Vehicle_Damage/train/COCO_train_annos.json',\n",
        "    mask_folder='Vehicle_Damage/train/masks'\n",
        ")\n"
      ],
      "metadata": {
        "id": "wtksJL-YxnUZ"
      },
      "execution_count": 13,
      "outputs": []
    },
    {
      "cell_type": "markdown",
      "source": [
        "###Calculate Pixel Class Balance for Binary Masks"
      ],
      "metadata": {
        "id": "zXAhuvKd1XsQ"
      }
    },
    {
      "cell_type": "code",
      "source": [
        "def compute_binary_class_counts(mask_dir):\n",
        "    mask_files = [f for f in os.listdir(mask_dir) if f.endswith('.png')]\n",
        "    class_counts = np.zeros(2, dtype=np.int64)\n",
        "    for mfile in mask_files:\n",
        "        mask = np.array(Image.open(os.path.join(mask_dir, mfile)))\n",
        "        class_counts[0] += np.sum(mask == 0)\n",
        "        class_counts[1] += np.sum(mask > 0)\n",
        "    return class_counts\n",
        "\n",
        "mask_dir = 'Vehicle_Damage/train/masks'\n",
        "class_counts = compute_binary_class_counts(mask_dir)\n",
        "print(\"Pixel counts per class:\", class_counts.tolist())  # [background_pixels, damage_pixels]\n"
      ],
      "metadata": {
        "colab": {
          "base_uri": "https://localhost:8080/"
        },
        "id": "5a1V3lqx1W2I",
        "outputId": "a8ec75f7-07c5-4a91-bdde-48448061d970"
      },
      "execution_count": 14,
      "outputs": [
        {
          "output_type": "stream",
          "name": "stdout",
          "text": [
            "Pixel counts per class: [55770811, 6095173]\n"
          ]
        }
      ]
    },
    {
      "cell_type": "markdown",
      "source": [
        "###Binary and Multiclass Segmentation Dataset"
      ],
      "metadata": {
        "id": "VEoB9J2CyBpo"
      }
    },
    {
      "cell_type": "code",
      "source": [
        "from torch.utils.data import Dataset\n",
        "from torchvision import transforms\n",
        "import torchvision.transforms.functional as TF\n",
        "import random\n",
        "\n",
        "class CarDamageBinarySegmentationDataset(Dataset):\n",
        "    def __init__(self, image_dir, mask_dir, image_size=(256, 256), aug=False):\n",
        "        self.image_dir = image_dir\n",
        "        self.mask_dir = mask_dir\n",
        "        self.image_size = image_size\n",
        "        self.aug = aug\n",
        "        self.images = sorted([\n",
        "            f for f in os.listdir(image_dir)\n",
        "            if f.lower().endswith(('.jpg', '.jpeg', '.png'))\n",
        "        ])\n",
        "        self.resize = transforms.Resize(self.image_size)\n",
        "        self.to_tensor = transforms.ToTensor()\n",
        "\n",
        "    def augment(self, image, mask):\n",
        "        if random.random() > 0.5:\n",
        "            image, mask = TF.hflip(image), TF.hflip(mask)\n",
        "        if random.random() > 0.9:\n",
        "            image, mask = TF.vflip(image), TF.vflip(mask)\n",
        "        angle = random.uniform(-15, 15)\n",
        "        image, mask = TF.rotate(image, angle), TF.rotate(mask, angle)\n",
        "        if random.random() > 0.7:\n",
        "            image = TF.adjust_brightness(image, brightness_factor=random.uniform(0.8, 1.2))\n",
        "            image = TF.adjust_contrast(image, contrast_factor=random.uniform(0.8, 1.2))\n",
        "        return image, mask\n",
        "\n",
        "    def __len__(self):\n",
        "        return len(self.images)\n",
        "\n",
        "    def __getitem__(self, idx):\n",
        "        img_name = self.images[idx]\n",
        "        base = os.path.splitext(img_name)[0]\n",
        "        img_path = os.path.join(self.image_dir, img_name)\n",
        "        mask_path = os.path.join(self.mask_dir, base + '_mask.png')\n",
        "        image = Image.open(img_path).convert('RGB')\n",
        "        mask = Image.open(mask_path).convert('L')\n",
        "        image = self.resize(image)\n",
        "        mask = mask.resize(self.image_size, resample=Image.NEAREST)\n",
        "        if self.aug:\n",
        "            image, mask = self.augment(image, mask)\n",
        "        image = self.to_tensor(image)\n",
        "        mask_np = np.array(mask, dtype=np.uint8)\n",
        "        mask_tensor = torch.from_numpy((mask_np > 127).astype(np.float32))  # [H, W], float32; 0/1\n",
        "        return image, mask_tensor.unsqueeze(0)  # [3,H,W], [1,H,W]\n"
      ],
      "metadata": {
        "id": "uL1CmIXhyA60"
      },
      "execution_count": 15,
      "outputs": []
    },
    {
      "cell_type": "markdown",
      "source": [
        "Create train & val loaders:"
      ],
      "metadata": {
        "id": "X6-sjJrPyIkF"
      }
    },
    {
      "cell_type": "code",
      "source": [
        "from torch.utils.data import DataLoader\n",
        "\n",
        "train_dataset = CarDamageBinarySegmentationDataset(\n",
        "    image_dir='Vehicle_Damage/train',\n",
        "    mask_dir='Vehicle_Damage/train/masks',\n",
        "    aug=True\n",
        ")\n",
        "val_dataset = CarDamageBinarySegmentationDataset(\n",
        "    image_dir='Vehicle_Damage/val',\n",
        "    mask_dir='Vehicle_Damage/val/masks',\n",
        "    aug=False\n",
        ")\n",
        "\n",
        "train_loader = DataLoader(train_dataset, batch_size=8, shuffle=True)\n",
        "val_loader = DataLoader(val_dataset, batch_size=8, shuffle=False)\n"
      ],
      "metadata": {
        "id": "htw1KuiWyH2K"
      },
      "execution_count": 16,
      "outputs": []
    },
    {
      "cell_type": "markdown",
      "source": [
        "###Weighted Loss for Class Imbalance"
      ],
      "metadata": {
        "id": "nzX83tJIzPrb"
      }
    },
    {
      "cell_type": "code",
      "source": [
        "import torch.nn as nn\n",
        "import torch\n",
        "\n",
        "# Compute pos_weight for BCEWithLogitsLoss: (background / (damage + epsilon))\n",
        "background, damage = class_counts\n",
        "epsilon = 1e-6\n",
        "pos_weight = torch.tensor([background / (damage + epsilon)], dtype=torch.float32)\n",
        "device = torch.device('cuda' if torch.cuda.is_available() else 'cpu')\n",
        "pos_weight = pos_weight.to(device)\n",
        "criterion = nn.BCEWithLogitsLoss(pos_weight=pos_weight)\n"
      ],
      "metadata": {
        "id": "uewwKdipzO72"
      },
      "execution_count": 17,
      "outputs": []
    },
    {
      "cell_type": "markdown",
      "source": [
        "Pretrained U-Net Model Initialization"
      ],
      "metadata": {
        "id": "lFTl00zlyRGr"
      }
    },
    {
      "cell_type": "code",
      "source": [
        "import segmentation_models_pytorch as smp\n",
        "\n",
        "model = smp.Unet(\n",
        "    encoder_name='resnet34',      # Pretrained backbone\n",
        "    encoder_weights='imagenet',   # Pretrained on ImageNet\n",
        "    in_channels=3,\n",
        "    classes=1                     # Binary mask output (1 channel)\n",
        ").to(device)\n"
      ],
      "metadata": {
        "id": "ID8eEGk3yEpN"
      },
      "execution_count": 18,
      "outputs": []
    },
    {
      "cell_type": "code",
      "source": [
        "import torch.optim as optim\n",
        "from tqdm import tqdm\n",
        "\n",
        "optimizer = optim.Adam(model.parameters(), lr=1e-4)\n",
        "epochs = 20\n",
        "\n",
        "for epoch in range(epochs):\n",
        "    model.train()\n",
        "    train_loss = 0\n",
        "    for images, masks in tqdm(train_loader):\n",
        "        images = images.to(device)\n",
        "        masks = masks.to(device)\n",
        "        outputs = model(images)\n",
        "        loss = criterion(outputs, masks)\n",
        "        optimizer.zero_grad()\n",
        "        loss.backward()\n",
        "        optimizer.step()\n",
        "        train_loss += loss.item()\n",
        "    print(f\"Epoch {epoch+1}/{epochs}, Train Loss: {train_loss/len(train_loader):.4f}\")\n",
        "\n",
        "    model.eval()\n",
        "    val_loss = 0\n",
        "    with torch.no_grad():\n",
        "        for images, masks in val_loader:\n",
        "            images = images.to(device)\n",
        "            masks = masks.to(device)\n",
        "            outputs = model(images)\n",
        "            val_loss += criterion(outputs, masks).item()\n",
        "    print(f\"Validation Loss: {val_loss/len(val_loader):.4f}\")\n"
      ],
      "metadata": {
        "colab": {
          "base_uri": "https://localhost:8080/"
        },
        "id": "Q4yumhNTygD6",
        "outputId": "2689865d-40d1-4151-db62-143e3eb75229"
      },
      "execution_count": 19,
      "outputs": [
        {
          "output_type": "stream",
          "name": "stderr",
          "text": [
            "100%|██████████| 8/8 [00:01<00:00,  4.14it/s]\n"
          ]
        },
        {
          "output_type": "stream",
          "name": "stdout",
          "text": [
            "Epoch 1/20, Train Loss: 1.2763\n",
            "Validation Loss: 0.7504\n"
          ]
        },
        {
          "output_type": "stream",
          "name": "stderr",
          "text": [
            "100%|██████████| 8/8 [00:01<00:00,  4.67it/s]\n"
          ]
        },
        {
          "output_type": "stream",
          "name": "stdout",
          "text": [
            "Epoch 2/20, Train Loss: 1.1689\n",
            "Validation Loss: 0.7415\n"
          ]
        },
        {
          "output_type": "stream",
          "name": "stderr",
          "text": [
            "100%|██████████| 8/8 [00:01<00:00,  4.74it/s]\n"
          ]
        },
        {
          "output_type": "stream",
          "name": "stdout",
          "text": [
            "Epoch 3/20, Train Loss: 1.0576\n",
            "Validation Loss: 0.6579\n"
          ]
        },
        {
          "output_type": "stream",
          "name": "stderr",
          "text": [
            "100%|██████████| 8/8 [00:02<00:00,  3.84it/s]\n"
          ]
        },
        {
          "output_type": "stream",
          "name": "stdout",
          "text": [
            "Epoch 4/20, Train Loss: 0.9539\n",
            "Validation Loss: 0.6999\n"
          ]
        },
        {
          "output_type": "stream",
          "name": "stderr",
          "text": [
            "100%|██████████| 8/8 [00:01<00:00,  4.70it/s]\n"
          ]
        },
        {
          "output_type": "stream",
          "name": "stdout",
          "text": [
            "Epoch 5/20, Train Loss: 0.8678\n",
            "Validation Loss: 0.7092\n"
          ]
        },
        {
          "output_type": "stream",
          "name": "stderr",
          "text": [
            "100%|██████████| 8/8 [00:01<00:00,  4.77it/s]\n"
          ]
        },
        {
          "output_type": "stream",
          "name": "stdout",
          "text": [
            "Epoch 6/20, Train Loss: 0.8190\n",
            "Validation Loss: 0.7632\n"
          ]
        },
        {
          "output_type": "stream",
          "name": "stderr",
          "text": [
            "100%|██████████| 8/8 [00:01<00:00,  4.74it/s]\n"
          ]
        },
        {
          "output_type": "stream",
          "name": "stdout",
          "text": [
            "Epoch 7/20, Train Loss: 0.7918\n",
            "Validation Loss: 0.7354\n"
          ]
        },
        {
          "output_type": "stream",
          "name": "stderr",
          "text": [
            "100%|██████████| 8/8 [00:01<00:00,  4.83it/s]\n"
          ]
        },
        {
          "output_type": "stream",
          "name": "stdout",
          "text": [
            "Epoch 8/20, Train Loss: 0.7277\n",
            "Validation Loss: 0.5893\n"
          ]
        },
        {
          "output_type": "stream",
          "name": "stderr",
          "text": [
            "100%|██████████| 8/8 [00:01<00:00,  4.81it/s]\n"
          ]
        },
        {
          "output_type": "stream",
          "name": "stdout",
          "text": [
            "Epoch 9/20, Train Loss: 0.6929\n",
            "Validation Loss: 0.6521\n"
          ]
        },
        {
          "output_type": "stream",
          "name": "stderr",
          "text": [
            "100%|██████████| 8/8 [00:01<00:00,  4.06it/s]\n"
          ]
        },
        {
          "output_type": "stream",
          "name": "stdout",
          "text": [
            "Epoch 10/20, Train Loss: 0.6666\n",
            "Validation Loss: 0.5347\n"
          ]
        },
        {
          "output_type": "stream",
          "name": "stderr",
          "text": [
            "100%|██████████| 8/8 [00:01<00:00,  4.36it/s]\n"
          ]
        },
        {
          "output_type": "stream",
          "name": "stdout",
          "text": [
            "Epoch 11/20, Train Loss: 0.6210\n",
            "Validation Loss: 0.5132\n"
          ]
        },
        {
          "output_type": "stream",
          "name": "stderr",
          "text": [
            "100%|██████████| 8/8 [00:01<00:00,  4.61it/s]\n"
          ]
        },
        {
          "output_type": "stream",
          "name": "stdout",
          "text": [
            "Epoch 12/20, Train Loss: 0.6132\n",
            "Validation Loss: 0.4576\n"
          ]
        },
        {
          "output_type": "stream",
          "name": "stderr",
          "text": [
            "100%|██████████| 8/8 [00:01<00:00,  4.74it/s]\n"
          ]
        },
        {
          "output_type": "stream",
          "name": "stdout",
          "text": [
            "Epoch 13/20, Train Loss: 0.6182\n",
            "Validation Loss: 0.4958\n"
          ]
        },
        {
          "output_type": "stream",
          "name": "stderr",
          "text": [
            "100%|██████████| 8/8 [00:01<00:00,  4.72it/s]\n"
          ]
        },
        {
          "output_type": "stream",
          "name": "stdout",
          "text": [
            "Epoch 14/20, Train Loss: 0.5636\n",
            "Validation Loss: 0.4469\n"
          ]
        },
        {
          "output_type": "stream",
          "name": "stderr",
          "text": [
            "100%|██████████| 8/8 [00:01<00:00,  4.69it/s]\n"
          ]
        },
        {
          "output_type": "stream",
          "name": "stdout",
          "text": [
            "Epoch 15/20, Train Loss: 0.5625\n",
            "Validation Loss: 0.4518\n"
          ]
        },
        {
          "output_type": "stream",
          "name": "stderr",
          "text": [
            "100%|██████████| 8/8 [00:01<00:00,  4.06it/s]\n"
          ]
        },
        {
          "output_type": "stream",
          "name": "stdout",
          "text": [
            "Epoch 16/20, Train Loss: 0.5306\n",
            "Validation Loss: 0.4682\n"
          ]
        },
        {
          "output_type": "stream",
          "name": "stderr",
          "text": [
            "100%|██████████| 8/8 [00:01<00:00,  4.10it/s]\n"
          ]
        },
        {
          "output_type": "stream",
          "name": "stdout",
          "text": [
            "Epoch 17/20, Train Loss: 0.5146\n",
            "Validation Loss: 0.4506\n"
          ]
        },
        {
          "output_type": "stream",
          "name": "stderr",
          "text": [
            "100%|██████████| 8/8 [00:01<00:00,  4.65it/s]\n"
          ]
        },
        {
          "output_type": "stream",
          "name": "stdout",
          "text": [
            "Epoch 18/20, Train Loss: 0.5161\n",
            "Validation Loss: 0.3945\n"
          ]
        },
        {
          "output_type": "stream",
          "name": "stderr",
          "text": [
            "100%|██████████| 8/8 [00:01<00:00,  4.71it/s]\n"
          ]
        },
        {
          "output_type": "stream",
          "name": "stdout",
          "text": [
            "Epoch 19/20, Train Loss: 0.4838\n",
            "Validation Loss: 0.4913\n"
          ]
        },
        {
          "output_type": "stream",
          "name": "stderr",
          "text": [
            "100%|██████████| 8/8 [00:01<00:00,  4.71it/s]\n"
          ]
        },
        {
          "output_type": "stream",
          "name": "stdout",
          "text": [
            "Epoch 20/20, Train Loss: 0.4715\n",
            "Validation Loss: 0.4445\n"
          ]
        }
      ]
    },
    {
      "cell_type": "code",
      "source": [
        "import matplotlib.pyplot as plt\n",
        "import torchvision.transforms as T\n",
        "import cv2\n",
        "import numpy as np\n",
        "from PIL import Image\n",
        "\n",
        "def show_mask_outline_on_image(model, img_path, device, threshold=0.5):\n",
        "    # Load image and predict mask\n",
        "    image = Image.open(img_path).convert('RGB').resize((256, 256))\n",
        "    image_tensor = T.ToTensor()(image).unsqueeze(0).to(device)\n",
        "    model.eval()\n",
        "    with torch.no_grad():\n",
        "        out = torch.sigmoid(model(image_tensor))\n",
        "        pred_mask = (out[0, 0].cpu().numpy() > threshold).astype(np.uint8)\n",
        "\n",
        "    img_disp = np.array(image)\n",
        "    contours, _ = cv2.findContours(pred_mask, cv2.RETR_EXTERNAL, cv2.CHAIN_APPROX_SIMPLE)\n",
        "    img_with_contours = img_disp.copy()\n",
        "    cv2.drawContours(img_with_contours, contours, -1, (0, 0, 255), thickness=2)\n",
        "    img_with_contours = cv2.cvtColor(img_with_contours, cv2.COLOR_BGR2RGB)\n",
        "    plt.figure(figsize=(12, 6))\n",
        "    plt.subplot(1, 2, 1)\n",
        "    plt.imshow(img_disp)\n",
        "    plt.title(\"Original Image\")\n",
        "    plt.axis('off')\n",
        "    plt.subplot(1, 2, 2)\n",
        "    plt.imshow(img_with_contours)\n",
        "    plt.title(\"Predicted Damage Outline\")\n",
        "    plt.axis('off')\n",
        "    plt.show()\n"
      ],
      "metadata": {
        "id": "OUmj4O521-zG"
      },
      "execution_count": 22,
      "outputs": []
    },
    {
      "cell_type": "code",
      "source": [
        "show_mask_outline_on_image(model, 'Vehicle_Damage/test/11.jpg', device, threshold=0.5)"
      ],
      "metadata": {
        "colab": {
          "base_uri": "https://localhost:8080/",
          "height": 482
        },
        "id": "cIFXx9Dh5Hxu",
        "outputId": "ff6937d9-e756-4605-e481-9a220af6ec74"
      },
      "execution_count": 23,
      "outputs": [
        {
          "output_type": "display_data",
          "data": {
            "text/plain": [
              "<Figure size 1200x600 with 2 Axes>"
            ],
            "image/png": "[encoded data removed]"
          },
          "metadata": {}
        }
      ]
    },
    {
      "cell_type": "code",
      "source": [],
      "metadata": {
        "id": "0Wacv9lsEtmf"
      },
      "execution_count": null,
      "outputs": []
    }
  ]
}